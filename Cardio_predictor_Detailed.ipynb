{
 "cells": [
  {
   "cell_type": "markdown",
   "id": "c1307878",
   "metadata": {},
   "source": [
    "# INTRODUCTION"
   ]
  },
  {
   "cell_type": "raw",
   "id": "94f4901e",
   "metadata": {},
   "source": [
    "The leading cause of death in the developed world is heart disease. Therefore there needs to be work done to help prevent the risks of of having a heart attack or stroke."
   ]
  },
  {
   "cell_type": "markdown",
   "id": "f8208e1c",
   "metadata": {},
   "source": [
    "### Acknowledgement"
   ]
  },
  {
   "cell_type": "raw",
   "id": "3426c3a2",
   "metadata": {},
   "source": [
    "This data comes from the University of California Irvine's Machine Learning Repository at https://archive.ics.uci.edu/ml/datasets/Heart+Disease"
   ]
  },
  {
   "cell_type": "markdown",
   "id": "ed473178",
   "metadata": {},
   "source": [
    "### Objectives of this notebook"
   ]
  },
  {
   "cell_type": "raw",
   "id": "5c4b27b1",
   "metadata": {},
   "source": [
    "-> Perform dataset exploration using various types of data visualization.\n",
    "-> Build various ML models that can predict whether patients has heart disease or not.\n",
    "-> Export prediction & model into text file.\n",
    "-> Perform prediction on new example data given."
   ]
  },
  {
   "cell_type": "markdown",
   "id": "2a3bc0b2",
   "metadata": {},
   "source": [
    "### The machine learning models used in this dataset are:"
   ]
  },
  {
   "cell_type": "raw",
   "id": "43e548fc",
   "metadata": {},
   "source": [
    "    1. Logistic Regression\n",
    "    2. Decision Tree"
   ]
  },
  {
   "cell_type": "markdown",
   "id": "31779bf2",
   "metadata": {},
   "source": [
    "### Explanation of the variables of the dataset:"
   ]
  },
  {
   "cell_type": "raw",
   "id": "ba519a08",
   "metadata": {},
   "source": [
    "    There are 14 variables in this dataset:\n",
    "        - 8 categorical variables and\n",
    "        - 6 continuous variable"
   ]
  },
  {
   "cell_type": "raw",
   "id": "7a868671",
   "metadata": {},
   "source": [
    "1. Age : Age in years\n",
    "2. Sex : Are you male or female? (1 = male; 0 = female)\n",
    "3. Chest pain type : -- Value 1: typical angina\n",
    "                     -- Value 2: atypical angina\n",
    "                     -- Value 3: non-anginal pain\n",
    "                     -- Value 4: asymptomatic\n",
    "4. BP : resting blood pressure (in mm Hg on admission to the hospital)\n",
    "5. Cholestrol : serum cholestoral in mg/dl\n",
    "6. FBS over 120 : (fasting blood sugar > 120 mg/dl) (1 = true; 0 = false)\n",
    "7. EKG results : resting electrocardiographic results\n",
    "                     -- Value 0: normal\n",
    "                     -- Value 1: having ST-T wave abnormality (T wave inversions and/or ST elevation or depression of > 0.05 mV)\n",
    "                     -- Value 2: showing probable or definite left ventricular hypertrophy by Estes' criteria\n",
    "8. Max HR : maximum heart rate achieved\n",
    "9. Exercise angina : exercise induced angina (1 = yes; 0 = no)\n",
    "10. ST depression : ST depression induced by exercise relative to rest\n",
    "11. Slope of ST : the slope of the peak exercise ST segment\n",
    "                     -- Value 1: upsloping\n",
    "                     -- Value 2: flat\n",
    "                     -- Value 3: downsloping\n",
    "12. Number of vessels fluro : number of major vessels (0-3) colored by flourosopy\n",
    "13. Thallium : 3 = normal; 6 = fixed defect; 7 = reversable defect\n",
    "14. Heart Disease : Heart disease found (1) or not (0)"
   ]
  },
  {
   "cell_type": "markdown",
   "id": "3ad34c88",
   "metadata": {},
   "source": [
    "## IMPORTING THE NECESSARY MODULES"
   ]
  },
  {
   "cell_type": "code",
   "execution_count": 1,
   "id": "f605dd96",
   "metadata": {},
   "outputs": [],
   "source": [
    "import pandas as pd \n",
    "import numpy as np\n",
    "import statsmodels.api as sm\n",
    "import scipy.stats as st\n",
    "import os\n",
    "\n",
    "import seaborn as sns\n",
    "import matplotlib.pyplot as plt\n",
    "from sklearn.metrics import confusion_matrix\n",
    "import matplotlib.mlab as mlab\n",
    "%matplotlib inline\n",
    "\n",
    "from sklearn.preprocessing import MinMaxScaler\n",
    "from sklearn.linear_model import LogisticRegression\n",
    "#from statsmodels.tools import add_constant\n",
    "from sklearn.neighbors import KNeighborsClassifier\n",
    "from sklearn import tree\n",
    "from sklearn.model_selection import train_test_split\n",
    "from sklearn.compose import make_column_transformer\n",
    "from sklearn.preprocessing import OneHotEncoder\n",
    "from sklearn.preprocessing import StandardScaler \n",
    "from sklearn import metrics\n",
    "import joblib"
   ]
  },
  {
   "cell_type": "markdown",
   "id": "4c191e9c",
   "metadata": {},
   "source": [
    "# DATA PREPARATION"
   ]
  },
  {
   "cell_type": "markdown",
   "id": "10231020",
   "metadata": {},
   "source": [
    "## 1 | Reading the data set"
   ]
  },
  {
   "cell_type": "code",
   "execution_count": 2,
   "id": "a2bca896",
   "metadata": {},
   "outputs": [
    {
     "data": {
      "text/html": [
       "<div>\n",
       "<style scoped>\n",
       "    .dataframe tbody tr th:only-of-type {\n",
       "        vertical-align: middle;\n",
       "    }\n",
       "\n",
       "    .dataframe tbody tr th {\n",
       "        vertical-align: top;\n",
       "    }\n",
       "\n",
       "    .dataframe thead th {\n",
       "        text-align: right;\n",
       "    }\n",
       "</style>\n",
       "<table border=\"1\" class=\"dataframe\">\n",
       "  <thead>\n",
       "    <tr style=\"text-align: right;\">\n",
       "      <th></th>\n",
       "      <th>Age</th>\n",
       "      <th>Sex</th>\n",
       "      <th>Chest pain type</th>\n",
       "      <th>BP</th>\n",
       "      <th>Cholesterol</th>\n",
       "      <th>FBS over 120</th>\n",
       "      <th>EKG results</th>\n",
       "      <th>Max HR</th>\n",
       "      <th>Exercise angina</th>\n",
       "      <th>ST depression</th>\n",
       "      <th>Slope of ST</th>\n",
       "      <th>Number of vessels fluro</th>\n",
       "      <th>Thallium</th>\n",
       "      <th>Heart Disease</th>\n",
       "    </tr>\n",
       "  </thead>\n",
       "  <tbody>\n",
       "    <tr>\n",
       "      <th>0</th>\n",
       "      <td>70</td>\n",
       "      <td>1</td>\n",
       "      <td>4</td>\n",
       "      <td>130</td>\n",
       "      <td>322</td>\n",
       "      <td>0</td>\n",
       "      <td>2</td>\n",
       "      <td>109</td>\n",
       "      <td>0</td>\n",
       "      <td>2.4</td>\n",
       "      <td>2</td>\n",
       "      <td>3</td>\n",
       "      <td>3</td>\n",
       "      <td>Presence</td>\n",
       "    </tr>\n",
       "    <tr>\n",
       "      <th>1</th>\n",
       "      <td>67</td>\n",
       "      <td>0</td>\n",
       "      <td>3</td>\n",
       "      <td>115</td>\n",
       "      <td>564</td>\n",
       "      <td>0</td>\n",
       "      <td>2</td>\n",
       "      <td>160</td>\n",
       "      <td>0</td>\n",
       "      <td>1.6</td>\n",
       "      <td>2</td>\n",
       "      <td>0</td>\n",
       "      <td>7</td>\n",
       "      <td>Absence</td>\n",
       "    </tr>\n",
       "    <tr>\n",
       "      <th>2</th>\n",
       "      <td>57</td>\n",
       "      <td>1</td>\n",
       "      <td>2</td>\n",
       "      <td>124</td>\n",
       "      <td>261</td>\n",
       "      <td>0</td>\n",
       "      <td>0</td>\n",
       "      <td>141</td>\n",
       "      <td>0</td>\n",
       "      <td>0.3</td>\n",
       "      <td>1</td>\n",
       "      <td>0</td>\n",
       "      <td>7</td>\n",
       "      <td>Presence</td>\n",
       "    </tr>\n",
       "    <tr>\n",
       "      <th>3</th>\n",
       "      <td>64</td>\n",
       "      <td>1</td>\n",
       "      <td>4</td>\n",
       "      <td>128</td>\n",
       "      <td>263</td>\n",
       "      <td>0</td>\n",
       "      <td>0</td>\n",
       "      <td>105</td>\n",
       "      <td>1</td>\n",
       "      <td>0.2</td>\n",
       "      <td>2</td>\n",
       "      <td>1</td>\n",
       "      <td>7</td>\n",
       "      <td>Absence</td>\n",
       "    </tr>\n",
       "    <tr>\n",
       "      <th>4</th>\n",
       "      <td>74</td>\n",
       "      <td>0</td>\n",
       "      <td>2</td>\n",
       "      <td>120</td>\n",
       "      <td>269</td>\n",
       "      <td>0</td>\n",
       "      <td>2</td>\n",
       "      <td>121</td>\n",
       "      <td>1</td>\n",
       "      <td>0.2</td>\n",
       "      <td>1</td>\n",
       "      <td>1</td>\n",
       "      <td>3</td>\n",
       "      <td>Absence</td>\n",
       "    </tr>\n",
       "  </tbody>\n",
       "</table>\n",
       "</div>"
      ],
      "text/plain": [
       "   Age  Sex  Chest pain type   BP  Cholesterol  FBS over 120  EKG results  \\\n",
       "0   70    1                4  130          322             0            2   \n",
       "1   67    0                3  115          564             0            2   \n",
       "2   57    1                2  124          261             0            0   \n",
       "3   64    1                4  128          263             0            0   \n",
       "4   74    0                2  120          269             0            2   \n",
       "\n",
       "   Max HR  Exercise angina  ST depression  Slope of ST  \\\n",
       "0     109                0            2.4            2   \n",
       "1     160                0            1.6            2   \n",
       "2     141                0            0.3            1   \n",
       "3     105                1            0.2            2   \n",
       "4     121                1            0.2            1   \n",
       "\n",
       "   Number of vessels fluro  Thallium Heart Disease  \n",
       "0                        3         3      Presence  \n",
       "1                        0         7       Absence  \n",
       "2                        0         7      Presence  \n",
       "3                        1         7       Absence  \n",
       "4                        1         3       Absence  "
      ]
     },
     "execution_count": 2,
     "metadata": {},
     "output_type": "execute_result"
    }
   ],
   "source": [
    "df = pd.read_csv('input/Heart_Disease_Prediction.csv')\n",
    "df.head()"
   ]
  },
  {
   "cell_type": "markdown",
   "id": "e320929d",
   "metadata": {},
   "source": [
    "## 2 | Summary Of Numerical Features"
   ]
  },
  {
   "cell_type": "code",
   "execution_count": 3,
   "id": "a08ea9aa",
   "metadata": {},
   "outputs": [
    {
     "data": {
      "text/html": [
       "<style type=\"text/css\">\n",
       "#T_2ce1e_row0_col0, #T_2ce1e_row0_col1, #T_2ce1e_row0_col2, #T_2ce1e_row0_col3, #T_2ce1e_row0_col4, #T_2ce1e_row0_col5, #T_2ce1e_row0_col6, #T_2ce1e_row0_col7, #T_2ce1e_row1_col0, #T_2ce1e_row1_col1, #T_2ce1e_row1_col2, #T_2ce1e_row1_col3, #T_2ce1e_row1_col4, #T_2ce1e_row1_col5, #T_2ce1e_row1_col6, #T_2ce1e_row1_col7, #T_2ce1e_row2_col0, #T_2ce1e_row2_col1, #T_2ce1e_row2_col2, #T_2ce1e_row2_col3, #T_2ce1e_row2_col4, #T_2ce1e_row2_col5, #T_2ce1e_row2_col6, #T_2ce1e_row2_col7, #T_2ce1e_row3_col0, #T_2ce1e_row3_col1, #T_2ce1e_row3_col2, #T_2ce1e_row3_col3, #T_2ce1e_row3_col4, #T_2ce1e_row3_col5, #T_2ce1e_row3_col6, #T_2ce1e_row3_col7, #T_2ce1e_row4_col0, #T_2ce1e_row4_col1, #T_2ce1e_row4_col2, #T_2ce1e_row4_col3, #T_2ce1e_row4_col4, #T_2ce1e_row4_col5, #T_2ce1e_row4_col6, #T_2ce1e_row4_col7, #T_2ce1e_row5_col0, #T_2ce1e_row5_col1, #T_2ce1e_row5_col2, #T_2ce1e_row5_col3, #T_2ce1e_row5_col4, #T_2ce1e_row5_col5, #T_2ce1e_row5_col6, #T_2ce1e_row5_col7, #T_2ce1e_row6_col0, #T_2ce1e_row6_col1, #T_2ce1e_row6_col2, #T_2ce1e_row6_col3, #T_2ce1e_row6_col4, #T_2ce1e_row6_col5, #T_2ce1e_row6_col6, #T_2ce1e_row6_col7, #T_2ce1e_row7_col0, #T_2ce1e_row7_col1, #T_2ce1e_row7_col2, #T_2ce1e_row7_col3, #T_2ce1e_row7_col4, #T_2ce1e_row7_col5, #T_2ce1e_row7_col6, #T_2ce1e_row7_col7, #T_2ce1e_row8_col0, #T_2ce1e_row8_col1, #T_2ce1e_row8_col2, #T_2ce1e_row8_col3, #T_2ce1e_row8_col4, #T_2ce1e_row8_col5, #T_2ce1e_row8_col6, #T_2ce1e_row8_col7, #T_2ce1e_row9_col0, #T_2ce1e_row9_col1, #T_2ce1e_row9_col2, #T_2ce1e_row9_col3, #T_2ce1e_row9_col4, #T_2ce1e_row9_col5, #T_2ce1e_row9_col6, #T_2ce1e_row9_col7, #T_2ce1e_row10_col0, #T_2ce1e_row10_col1, #T_2ce1e_row10_col2, #T_2ce1e_row10_col3, #T_2ce1e_row10_col4, #T_2ce1e_row10_col5, #T_2ce1e_row10_col6, #T_2ce1e_row10_col7, #T_2ce1e_row11_col0, #T_2ce1e_row11_col1, #T_2ce1e_row11_col2, #T_2ce1e_row11_col3, #T_2ce1e_row11_col4, #T_2ce1e_row11_col5, #T_2ce1e_row11_col6, #T_2ce1e_row11_col7, #T_2ce1e_row12_col0, #T_2ce1e_row12_col1, #T_2ce1e_row12_col2, #T_2ce1e_row12_col3, #T_2ce1e_row12_col4, #T_2ce1e_row12_col5, #T_2ce1e_row12_col6, #T_2ce1e_row12_col7 {\n",
       "  background-color: grey;\n",
       "  color: white;\n",
       "  border-color: white;\n",
       "}\n",
       "</style>\n",
       "<table id=\"T_2ce1e_\">\n",
       "  <thead>\n",
       "    <tr>\n",
       "      <th class=\"blank level0\" >&nbsp;</th>\n",
       "      <th class=\"col_heading level0 col0\" >count</th>\n",
       "      <th class=\"col_heading level0 col1\" >mean</th>\n",
       "      <th class=\"col_heading level0 col2\" >std</th>\n",
       "      <th class=\"col_heading level0 col3\" >min</th>\n",
       "      <th class=\"col_heading level0 col4\" >25%</th>\n",
       "      <th class=\"col_heading level0 col5\" >50%</th>\n",
       "      <th class=\"col_heading level0 col6\" >75%</th>\n",
       "      <th class=\"col_heading level0 col7\" >max</th>\n",
       "    </tr>\n",
       "  </thead>\n",
       "  <tbody>\n",
       "    <tr>\n",
       "      <th id=\"T_2ce1e_level0_row0\" class=\"row_heading level0 row0\" >Age</th>\n",
       "      <td id=\"T_2ce1e_row0_col0\" class=\"data row0 col0\" >270.000000</td>\n",
       "      <td id=\"T_2ce1e_row0_col1\" class=\"data row0 col1\" >54.433333</td>\n",
       "      <td id=\"T_2ce1e_row0_col2\" class=\"data row0 col2\" >9.109067</td>\n",
       "      <td id=\"T_2ce1e_row0_col3\" class=\"data row0 col3\" >29.000000</td>\n",
       "      <td id=\"T_2ce1e_row0_col4\" class=\"data row0 col4\" >48.000000</td>\n",
       "      <td id=\"T_2ce1e_row0_col5\" class=\"data row0 col5\" >55.000000</td>\n",
       "      <td id=\"T_2ce1e_row0_col6\" class=\"data row0 col6\" >61.000000</td>\n",
       "      <td id=\"T_2ce1e_row0_col7\" class=\"data row0 col7\" >77.000000</td>\n",
       "    </tr>\n",
       "    <tr>\n",
       "      <th id=\"T_2ce1e_level0_row1\" class=\"row_heading level0 row1\" >Sex</th>\n",
       "      <td id=\"T_2ce1e_row1_col0\" class=\"data row1 col0\" >270.000000</td>\n",
       "      <td id=\"T_2ce1e_row1_col1\" class=\"data row1 col1\" >0.677778</td>\n",
       "      <td id=\"T_2ce1e_row1_col2\" class=\"data row1 col2\" >0.468195</td>\n",
       "      <td id=\"T_2ce1e_row1_col3\" class=\"data row1 col3\" >0.000000</td>\n",
       "      <td id=\"T_2ce1e_row1_col4\" class=\"data row1 col4\" >0.000000</td>\n",
       "      <td id=\"T_2ce1e_row1_col5\" class=\"data row1 col5\" >1.000000</td>\n",
       "      <td id=\"T_2ce1e_row1_col6\" class=\"data row1 col6\" >1.000000</td>\n",
       "      <td id=\"T_2ce1e_row1_col7\" class=\"data row1 col7\" >1.000000</td>\n",
       "    </tr>\n",
       "    <tr>\n",
       "      <th id=\"T_2ce1e_level0_row2\" class=\"row_heading level0 row2\" >Chest pain type</th>\n",
       "      <td id=\"T_2ce1e_row2_col0\" class=\"data row2 col0\" >270.000000</td>\n",
       "      <td id=\"T_2ce1e_row2_col1\" class=\"data row2 col1\" >3.174074</td>\n",
       "      <td id=\"T_2ce1e_row2_col2\" class=\"data row2 col2\" >0.950090</td>\n",
       "      <td id=\"T_2ce1e_row2_col3\" class=\"data row2 col3\" >1.000000</td>\n",
       "      <td id=\"T_2ce1e_row2_col4\" class=\"data row2 col4\" >3.000000</td>\n",
       "      <td id=\"T_2ce1e_row2_col5\" class=\"data row2 col5\" >3.000000</td>\n",
       "      <td id=\"T_2ce1e_row2_col6\" class=\"data row2 col6\" >4.000000</td>\n",
       "      <td id=\"T_2ce1e_row2_col7\" class=\"data row2 col7\" >4.000000</td>\n",
       "    </tr>\n",
       "    <tr>\n",
       "      <th id=\"T_2ce1e_level0_row3\" class=\"row_heading level0 row3\" >BP</th>\n",
       "      <td id=\"T_2ce1e_row3_col0\" class=\"data row3 col0\" >270.000000</td>\n",
       "      <td id=\"T_2ce1e_row3_col1\" class=\"data row3 col1\" >131.344444</td>\n",
       "      <td id=\"T_2ce1e_row3_col2\" class=\"data row3 col2\" >17.861608</td>\n",
       "      <td id=\"T_2ce1e_row3_col3\" class=\"data row3 col3\" >94.000000</td>\n",
       "      <td id=\"T_2ce1e_row3_col4\" class=\"data row3 col4\" >120.000000</td>\n",
       "      <td id=\"T_2ce1e_row3_col5\" class=\"data row3 col5\" >130.000000</td>\n",
       "      <td id=\"T_2ce1e_row3_col6\" class=\"data row3 col6\" >140.000000</td>\n",
       "      <td id=\"T_2ce1e_row3_col7\" class=\"data row3 col7\" >200.000000</td>\n",
       "    </tr>\n",
       "    <tr>\n",
       "      <th id=\"T_2ce1e_level0_row4\" class=\"row_heading level0 row4\" >Cholesterol</th>\n",
       "      <td id=\"T_2ce1e_row4_col0\" class=\"data row4 col0\" >270.000000</td>\n",
       "      <td id=\"T_2ce1e_row4_col1\" class=\"data row4 col1\" >249.659259</td>\n",
       "      <td id=\"T_2ce1e_row4_col2\" class=\"data row4 col2\" >51.686237</td>\n",
       "      <td id=\"T_2ce1e_row4_col3\" class=\"data row4 col3\" >126.000000</td>\n",
       "      <td id=\"T_2ce1e_row4_col4\" class=\"data row4 col4\" >213.000000</td>\n",
       "      <td id=\"T_2ce1e_row4_col5\" class=\"data row4 col5\" >245.000000</td>\n",
       "      <td id=\"T_2ce1e_row4_col6\" class=\"data row4 col6\" >280.000000</td>\n",
       "      <td id=\"T_2ce1e_row4_col7\" class=\"data row4 col7\" >564.000000</td>\n",
       "    </tr>\n",
       "    <tr>\n",
       "      <th id=\"T_2ce1e_level0_row5\" class=\"row_heading level0 row5\" >FBS over 120</th>\n",
       "      <td id=\"T_2ce1e_row5_col0\" class=\"data row5 col0\" >270.000000</td>\n",
       "      <td id=\"T_2ce1e_row5_col1\" class=\"data row5 col1\" >0.148148</td>\n",
       "      <td id=\"T_2ce1e_row5_col2\" class=\"data row5 col2\" >0.355906</td>\n",
       "      <td id=\"T_2ce1e_row5_col3\" class=\"data row5 col3\" >0.000000</td>\n",
       "      <td id=\"T_2ce1e_row5_col4\" class=\"data row5 col4\" >0.000000</td>\n",
       "      <td id=\"T_2ce1e_row5_col5\" class=\"data row5 col5\" >0.000000</td>\n",
       "      <td id=\"T_2ce1e_row5_col6\" class=\"data row5 col6\" >0.000000</td>\n",
       "      <td id=\"T_2ce1e_row5_col7\" class=\"data row5 col7\" >1.000000</td>\n",
       "    </tr>\n",
       "    <tr>\n",
       "      <th id=\"T_2ce1e_level0_row6\" class=\"row_heading level0 row6\" >EKG results</th>\n",
       "      <td id=\"T_2ce1e_row6_col0\" class=\"data row6 col0\" >270.000000</td>\n",
       "      <td id=\"T_2ce1e_row6_col1\" class=\"data row6 col1\" >1.022222</td>\n",
       "      <td id=\"T_2ce1e_row6_col2\" class=\"data row6 col2\" >0.997891</td>\n",
       "      <td id=\"T_2ce1e_row6_col3\" class=\"data row6 col3\" >0.000000</td>\n",
       "      <td id=\"T_2ce1e_row6_col4\" class=\"data row6 col4\" >0.000000</td>\n",
       "      <td id=\"T_2ce1e_row6_col5\" class=\"data row6 col5\" >2.000000</td>\n",
       "      <td id=\"T_2ce1e_row6_col6\" class=\"data row6 col6\" >2.000000</td>\n",
       "      <td id=\"T_2ce1e_row6_col7\" class=\"data row6 col7\" >2.000000</td>\n",
       "    </tr>\n",
       "    <tr>\n",
       "      <th id=\"T_2ce1e_level0_row7\" class=\"row_heading level0 row7\" >Max HR</th>\n",
       "      <td id=\"T_2ce1e_row7_col0\" class=\"data row7 col0\" >270.000000</td>\n",
       "      <td id=\"T_2ce1e_row7_col1\" class=\"data row7 col1\" >149.677778</td>\n",
       "      <td id=\"T_2ce1e_row7_col2\" class=\"data row7 col2\" >23.165717</td>\n",
       "      <td id=\"T_2ce1e_row7_col3\" class=\"data row7 col3\" >71.000000</td>\n",
       "      <td id=\"T_2ce1e_row7_col4\" class=\"data row7 col4\" >133.000000</td>\n",
       "      <td id=\"T_2ce1e_row7_col5\" class=\"data row7 col5\" >153.500000</td>\n",
       "      <td id=\"T_2ce1e_row7_col6\" class=\"data row7 col6\" >166.000000</td>\n",
       "      <td id=\"T_2ce1e_row7_col7\" class=\"data row7 col7\" >202.000000</td>\n",
       "    </tr>\n",
       "    <tr>\n",
       "      <th id=\"T_2ce1e_level0_row8\" class=\"row_heading level0 row8\" >Exercise angina</th>\n",
       "      <td id=\"T_2ce1e_row8_col0\" class=\"data row8 col0\" >270.000000</td>\n",
       "      <td id=\"T_2ce1e_row8_col1\" class=\"data row8 col1\" >0.329630</td>\n",
       "      <td id=\"T_2ce1e_row8_col2\" class=\"data row8 col2\" >0.470952</td>\n",
       "      <td id=\"T_2ce1e_row8_col3\" class=\"data row8 col3\" >0.000000</td>\n",
       "      <td id=\"T_2ce1e_row8_col4\" class=\"data row8 col4\" >0.000000</td>\n",
       "      <td id=\"T_2ce1e_row8_col5\" class=\"data row8 col5\" >0.000000</td>\n",
       "      <td id=\"T_2ce1e_row8_col6\" class=\"data row8 col6\" >1.000000</td>\n",
       "      <td id=\"T_2ce1e_row8_col7\" class=\"data row8 col7\" >1.000000</td>\n",
       "    </tr>\n",
       "    <tr>\n",
       "      <th id=\"T_2ce1e_level0_row9\" class=\"row_heading level0 row9\" >ST depression</th>\n",
       "      <td id=\"T_2ce1e_row9_col0\" class=\"data row9 col0\" >270.000000</td>\n",
       "      <td id=\"T_2ce1e_row9_col1\" class=\"data row9 col1\" >1.050000</td>\n",
       "      <td id=\"T_2ce1e_row9_col2\" class=\"data row9 col2\" >1.145210</td>\n",
       "      <td id=\"T_2ce1e_row9_col3\" class=\"data row9 col3\" >0.000000</td>\n",
       "      <td id=\"T_2ce1e_row9_col4\" class=\"data row9 col4\" >0.000000</td>\n",
       "      <td id=\"T_2ce1e_row9_col5\" class=\"data row9 col5\" >0.800000</td>\n",
       "      <td id=\"T_2ce1e_row9_col6\" class=\"data row9 col6\" >1.600000</td>\n",
       "      <td id=\"T_2ce1e_row9_col7\" class=\"data row9 col7\" >6.200000</td>\n",
       "    </tr>\n",
       "    <tr>\n",
       "      <th id=\"T_2ce1e_level0_row10\" class=\"row_heading level0 row10\" >Slope of ST</th>\n",
       "      <td id=\"T_2ce1e_row10_col0\" class=\"data row10 col0\" >270.000000</td>\n",
       "      <td id=\"T_2ce1e_row10_col1\" class=\"data row10 col1\" >1.585185</td>\n",
       "      <td id=\"T_2ce1e_row10_col2\" class=\"data row10 col2\" >0.614390</td>\n",
       "      <td id=\"T_2ce1e_row10_col3\" class=\"data row10 col3\" >1.000000</td>\n",
       "      <td id=\"T_2ce1e_row10_col4\" class=\"data row10 col4\" >1.000000</td>\n",
       "      <td id=\"T_2ce1e_row10_col5\" class=\"data row10 col5\" >2.000000</td>\n",
       "      <td id=\"T_2ce1e_row10_col6\" class=\"data row10 col6\" >2.000000</td>\n",
       "      <td id=\"T_2ce1e_row10_col7\" class=\"data row10 col7\" >3.000000</td>\n",
       "    </tr>\n",
       "    <tr>\n",
       "      <th id=\"T_2ce1e_level0_row11\" class=\"row_heading level0 row11\" >Number of vessels fluro</th>\n",
       "      <td id=\"T_2ce1e_row11_col0\" class=\"data row11 col0\" >270.000000</td>\n",
       "      <td id=\"T_2ce1e_row11_col1\" class=\"data row11 col1\" >0.670370</td>\n",
       "      <td id=\"T_2ce1e_row11_col2\" class=\"data row11 col2\" >0.943896</td>\n",
       "      <td id=\"T_2ce1e_row11_col3\" class=\"data row11 col3\" >0.000000</td>\n",
       "      <td id=\"T_2ce1e_row11_col4\" class=\"data row11 col4\" >0.000000</td>\n",
       "      <td id=\"T_2ce1e_row11_col5\" class=\"data row11 col5\" >0.000000</td>\n",
       "      <td id=\"T_2ce1e_row11_col6\" class=\"data row11 col6\" >1.000000</td>\n",
       "      <td id=\"T_2ce1e_row11_col7\" class=\"data row11 col7\" >3.000000</td>\n",
       "    </tr>\n",
       "    <tr>\n",
       "      <th id=\"T_2ce1e_level0_row12\" class=\"row_heading level0 row12\" >Thallium</th>\n",
       "      <td id=\"T_2ce1e_row12_col0\" class=\"data row12 col0\" >270.000000</td>\n",
       "      <td id=\"T_2ce1e_row12_col1\" class=\"data row12 col1\" >4.696296</td>\n",
       "      <td id=\"T_2ce1e_row12_col2\" class=\"data row12 col2\" >1.940659</td>\n",
       "      <td id=\"T_2ce1e_row12_col3\" class=\"data row12 col3\" >3.000000</td>\n",
       "      <td id=\"T_2ce1e_row12_col4\" class=\"data row12 col4\" >3.000000</td>\n",
       "      <td id=\"T_2ce1e_row12_col5\" class=\"data row12 col5\" >3.000000</td>\n",
       "      <td id=\"T_2ce1e_row12_col6\" class=\"data row12 col6\" >7.000000</td>\n",
       "      <td id=\"T_2ce1e_row12_col7\" class=\"data row12 col7\" >7.000000</td>\n",
       "    </tr>\n",
       "  </tbody>\n",
       "</table>\n"
      ],
      "text/plain": [
       "<pandas.io.formats.style.Styler at 0x1b1f34b8f70>"
      ]
     },
     "execution_count": 3,
     "metadata": {},
     "output_type": "execute_result"
    }
   ],
   "source": [
    "df.describe().T.style.set_properties(**{'background-color': 'grey','color': 'white','border-color': 'white'})"
   ]
  },
  {
   "cell_type": "markdown",
   "id": "4d94c157",
   "metadata": {},
   "source": [
    "## 3 | Data Cleaning"
   ]
  },
  {
   "cell_type": "code",
   "execution_count": 4,
   "id": "f4d1a230",
   "metadata": {},
   "outputs": [
    {
     "name": "stdout",
     "output_type": "stream",
     "text": [
      "<class 'pandas.core.frame.DataFrame'>\n",
      "RangeIndex: 270 entries, 0 to 269\n",
      "Data columns (total 14 columns):\n",
      " #   Column                   Non-Null Count  Dtype  \n",
      "---  ------                   --------------  -----  \n",
      " 0   Age                      270 non-null    int64  \n",
      " 1   Sex                      270 non-null    int64  \n",
      " 2   Chest pain type          270 non-null    int64  \n",
      " 3   BP                       270 non-null    int64  \n",
      " 4   Cholesterol              270 non-null    int64  \n",
      " 5   FBS over 120             270 non-null    int64  \n",
      " 6   EKG results              270 non-null    int64  \n",
      " 7   Max HR                   270 non-null    int64  \n",
      " 8   Exercise angina          270 non-null    int64  \n",
      " 9   ST depression            270 non-null    float64\n",
      " 10  Slope of ST              270 non-null    int64  \n",
      " 11  Number of vessels fluro  270 non-null    int64  \n",
      " 12  Thallium                 270 non-null    int64  \n",
      " 13  Heart Disease            270 non-null    object \n",
      "dtypes: float64(1), int64(12), object(1)\n",
      "memory usage: 29.7+ KB\n"
     ]
    }
   ],
   "source": [
    "df.info()"
   ]
  },
  {
   "cell_type": "code",
   "execution_count": 5,
   "id": "d79adb9e",
   "metadata": {},
   "outputs": [
    {
     "data": {
      "text/plain": [
       "Age                         41\n",
       "Sex                          2\n",
       "Chest pain type              4\n",
       "BP                          47\n",
       "Cholesterol                144\n",
       "FBS over 120                 2\n",
       "EKG results                  3\n",
       "Max HR                      90\n",
       "Exercise angina              2\n",
       "ST depression               39\n",
       "Slope of ST                  3\n",
       "Number of vessels fluro      4\n",
       "Thallium                     3\n",
       "Heart Disease                2\n",
       "dtype: int64"
      ]
     },
     "execution_count": 5,
     "metadata": {},
     "output_type": "execute_result"
    }
   ],
   "source": [
    "df.nunique()"
   ]
  },
  {
   "cell_type": "raw",
   "id": "42621602",
   "metadata": {},
   "source": [
    "We have some attributes that have more than two unique values, we'll use OneHotEncoder in the preprocessing step later."
   ]
  },
  {
   "cell_type": "code",
   "execution_count": 6,
   "id": "14d85d6e",
   "metadata": {},
   "outputs": [
    {
     "data": {
      "text/plain": [
       "Age                        0\n",
       "Sex                        0\n",
       "Chest pain type            0\n",
       "BP                         0\n",
       "Cholesterol                0\n",
       "FBS over 120               0\n",
       "EKG results                0\n",
       "Max HR                     0\n",
       "Exercise angina            0\n",
       "ST depression              0\n",
       "Slope of ST                0\n",
       "Number of vessels fluro    0\n",
       "Thallium                   0\n",
       "Heart Disease              0\n",
       "dtype: int64"
      ]
     },
     "execution_count": 6,
     "metadata": {},
     "output_type": "execute_result"
    }
   ],
   "source": [
    "df.isnull().sum()"
   ]
  },
  {
   "cell_type": "raw",
   "id": "a1a85dca",
   "metadata": {},
   "source": [
    "As we have no row with null values there is no need to remove any rows"
   ]
  },
  {
   "cell_type": "code",
   "execution_count": 7,
   "id": "1d76470e",
   "metadata": {},
   "outputs": [],
   "source": [
    "df =  df[df.columns].replace({'Presence':1, 'Absence':0 })\n",
    "df['Heart Disease'] = df['Heart Disease'].astype(int)"
   ]
  },
  {
   "cell_type": "code",
   "execution_count": 8,
   "id": "3b596fd9",
   "metadata": {},
   "outputs": [
    {
     "name": "stdout",
     "output_type": "stream",
     "text": [
      "<class 'pandas.core.frame.DataFrame'>\n",
      "RangeIndex: 270 entries, 0 to 269\n",
      "Data columns (total 14 columns):\n",
      " #   Column                   Non-Null Count  Dtype  \n",
      "---  ------                   --------------  -----  \n",
      " 0   Age                      270 non-null    int64  \n",
      " 1   Sex                      270 non-null    int64  \n",
      " 2   Chest pain type          270 non-null    int64  \n",
      " 3   BP                       270 non-null    int64  \n",
      " 4   Cholesterol              270 non-null    int64  \n",
      " 5   FBS over 120             270 non-null    int64  \n",
      " 6   EKG results              270 non-null    int64  \n",
      " 7   Max HR                   270 non-null    int64  \n",
      " 8   Exercise angina          270 non-null    int64  \n",
      " 9   ST depression            270 non-null    float64\n",
      " 10  Slope of ST              270 non-null    int64  \n",
      " 11  Number of vessels fluro  270 non-null    int64  \n",
      " 12  Thallium                 270 non-null    int64  \n",
      " 13  Heart Disease            270 non-null    int32  \n",
      "dtypes: float64(1), int32(1), int64(12)\n",
      "memory usage: 28.6 KB\n"
     ]
    }
   ],
   "source": [
    "df.info()"
   ]
  },
  {
   "cell_type": "markdown",
   "id": "1874f13a",
   "metadata": {},
   "source": [
    "# EXPLORATORY ANALYSIS"
   ]
  },
  {
   "cell_type": "markdown",
   "id": "c91d8830",
   "metadata": {},
   "source": [
    "## 1 | Visualization Of Categorical Features"
   ]
  },
  {
   "cell_type": "code",
   "execution_count": 9,
   "id": "8f90f66a",
   "metadata": {},
   "outputs": [
    {
     "data": {
      "image/png": "[encoded data removed]",
      "text/plain": [
       "<Figure size 936x504 with 1 Axes>"
      ]
     },
     "metadata": {
      "needs_background": "light"
     },
     "output_type": "display_data"
    }
   ],
   "source": [
    "fig, ax = plt.subplots(figsize = (13,7))\n",
    "\n",
    "ax.hist(df[df[\"Heart Disease\"]==1][\"Sex\"], bins=4, alpha=1, color=\"orange\", label=\"Heart Disease\")\n",
    "ax.hist(df[df[\"Heart Disease\"]==0][\"Sex\"], bins=4, alpha=0.5, color=\"tomato\", label=\"Normal\")\n",
    "\n",
    "ax.set_xlim(0, 1)\n",
    "ax.set_xlabel(\"Sex\", fontweight ='bold')\n",
    "ax.set_ylabel(\"Frequency\", fontweight ='bold')\n",
    "\n",
    "fig.suptitle(\"Distribution of Cases with Yes/No heartdisease according to Sex\")\n",
    "\n",
    "ax.legend();"
   ]
  },
  {
   "cell_type": "raw",
   "id": "272160b8",
   "metadata": {},
   "source": [
    "    Remember that number one refers to men and 0 refers to women on the x-axis.\n",
    "    Most cases of heart disease are men .\n",
    "    Most cases that got no heart disease are women ."
   ]
  },
  {
   "cell_type": "code",
   "execution_count": 10,
   "id": "7f094133",
   "metadata": {},
   "outputs": [
    {
     "data": {
      "image/png": "[encoded data removed]",
      "text/plain": [
       "<Figure size 936x504 with 1 Axes>"
      ]
     },
     "metadata": {
      "needs_background": "light"
     },
     "output_type": "display_data"
    }
   ],
   "source": [
    "fig, ax = plt.subplots(figsize = (13,7))\n",
    "\n",
    "ax.hist(df[df[\"Heart Disease\"]==1][\"Chest pain type\"], bins=10, alpha=1, color=\"orange\", label=\"Heart Disease\")\n",
    "ax.hist(df[df[\"Heart Disease\"]==0][\"Chest pain type\"], bins=10, alpha=0.5, color=\"#fccc79\", label=\"Normal\")\n",
    "\n",
    "ax.set_xlabel(\"Chest pain type\", fontweight ='bold')\n",
    "ax.set_ylabel(\"Frequency\", fontweight ='bold')\n",
    "\n",
    "fig.suptitle(\"Distribution of Cases with Yes/No heartdisease according to chest pain type\")\n",
    "\n",
    "ax.legend();"
   ]
  },
  {
   "cell_type": "code",
   "execution_count": 11,
   "id": "d62967e2",
   "metadata": {},
   "outputs": [
    {
     "data": {
      "image/png": "[encoded data removed]",
      "text/plain": [
       "<Figure size 936x504 with 1 Axes>"
      ]
     },
     "metadata": {
      "needs_background": "light"
     },
     "output_type": "display_data"
    }
   ],
   "source": [
    "fig, ax = plt.subplots(figsize = (13,7))\n",
    "\n",
    "ax.hist(df[df[\"Heart Disease\"]==1][\"FBS over 120\"], bins=4, alpha=1, color=\"orange\", label=\"Heart Disease\")\n",
    "ax.hist(df[df[\"Heart Disease\"]==0][\"FBS over 120\"], bins=4, alpha=0.5, color=\"#fccc79\", label=\"Normal\")\n",
    "\n",
    "ax.set_xlabel(\"FBS over 120\", fontweight ='bold')\n",
    "ax.set_ylabel(\"Frequency\", fontweight ='bold')\n",
    "\n",
    "fig.suptitle(\"Distribution of Cases with Yes/No heartdisease according to FBS\")\n",
    "\n",
    "ax.legend();"
   ]
  },
  {
   "cell_type": "code",
   "execution_count": 12,
   "id": "a21fac15",
   "metadata": {},
   "outputs": [
    {
     "data": {
      "image/png": "[encoded data removed]",
      "text/plain": [
       "<Figure size 936x504 with 1 Axes>"
      ]
     },
     "metadata": {
      "needs_background": "light"
     },
     "output_type": "display_data"
    }
   ],
   "source": [
    "fig, ax = plt.subplots(figsize = (13,7))\n",
    "\n",
    "ax.hist(df[df[\"Heart Disease\"]==1][\"EKG results\"], bins=7, alpha=1, color=\"orange\", label=\"Heart Disease\")\n",
    "ax.hist(df[df[\"Heart Disease\"]==0][\"EKG results\"], bins=7, alpha=0.5, color=\"#fccc79\", label=\"Normal\")\n",
    "\n",
    "ax.set_xlabel(\"EKG results\", fontweight ='bold')\n",
    "ax.set_ylabel(\"Frequency\", fontweight ='bold')\n",
    "\n",
    "fig.suptitle(\"Distribution of Cases with Yes/No heartdisease according to EKG results\")\n",
    "\n",
    "ax.legend();"
   ]
  },
  {
   "cell_type": "code",
   "execution_count": 13,
   "id": "a585fa87",
   "metadata": {},
   "outputs": [
    {
     "data": {
      "image/png": "[encoded data removed]",
      "text/plain": [
       "<Figure size 936x504 with 1 Axes>"
      ]
     },
     "metadata": {
      "needs_background": "light"
     },
     "output_type": "display_data"
    }
   ],
   "source": [
    "fig, ax = plt.subplots(figsize = (13,7))\n",
    "\n",
    "ax.hist(df[df[\"Heart Disease\"]==1][\"Exercise angina\"], bins=4, alpha=1, color=\"orange\", label=\"Heart Disease\")\n",
    "ax.hist(df[df[\"Heart Disease\"]==0][\"Exercise angina\"], bins=4, alpha=0.5, color=\"#fccc79\", label=\"Normal\")\n",
    "\n",
    "ax.set_xlabel(\"Exercise angina\", fontweight ='bold')\n",
    "ax.set_ylabel(\"Frequency\", fontweight ='bold')\n",
    "\n",
    "fig.suptitle(\"Distribution of Cases with Yes/No heartdisease according to Exercise angina\")\n",
    "\n",
    "ax.legend();"
   ]
  },
  {
   "cell_type": "code",
   "execution_count": 14,
   "id": "f1c1c55e",
   "metadata": {},
   "outputs": [
    {
     "data": {
      "image/png": "[encoded data removed]",
      "text/plain": [
       "<Figure size 936x504 with 1 Axes>"
      ]
     },
     "metadata": {
      "needs_background": "light"
     },
     "output_type": "display_data"
    }
   ],
   "source": [
    "fig, ax = plt.subplots(figsize = (13,7))\n",
    "\n",
    "ax.hist(df[df[\"Heart Disease\"]==1][\"Slope of ST\"], bins=7, alpha=1, color=\"orange\", label=\"Heart Disease\")\n",
    "ax.hist(df[df[\"Heart Disease\"]==0][\"Slope of ST\"], bins=7, alpha=0.5, color=\"#fccc79\", label=\"Normal\")\n",
    "\n",
    "ax.set_xlabel(\"Slope of ST\", fontweight ='bold')\n",
    "ax.set_ylabel(\"Frequency\", fontweight ='bold')\n",
    "\n",
    "fig.suptitle(\"Distribution of Cases with Yes/No heartdisease according to Slope of ST\")\n",
    "\n",
    "ax.legend();"
   ]
  },
  {
   "cell_type": "code",
   "execution_count": 15,
   "id": "c23aa05b",
   "metadata": {},
   "outputs": [
    {
     "data": {
      "image/png": "[encoded data removed]",
      "text/plain": [
       "<Figure size 936x504 with 1 Axes>"
      ]
     },
     "metadata": {
      "needs_background": "light"
     },
     "output_type": "display_data"
    }
   ],
   "source": [
    "fig, ax = plt.subplots(figsize = (13,7))\n",
    "\n",
    "ax.hist(df[df[\"Heart Disease\"]==1][\"Number of vessels fluro\"], bins=8, alpha=1, color=\"orange\", label=\"Heart Disease\")\n",
    "ax.hist(df[df[\"Heart Disease\"]==0][\"Number of vessels fluro\"], bins=8, alpha=0.5, color=\"#fccc79\", label=\"Normal\")\n",
    "\n",
    "ax.set_xlabel(\"Number of vessels fluro\", fontweight ='bold')\n",
    "ax.set_ylabel(\"Frequency\", fontweight ='bold')\n",
    "\n",
    "fig.suptitle(\"Distribution of Cases with Yes/No heartdisease according to Number of vessels fluro\")\n",
    "\n",
    "ax.legend();"
   ]
  },
  {
   "cell_type": "code",
   "execution_count": 16,
   "id": "85698716",
   "metadata": {},
   "outputs": [
    {
     "data": {
      "image/png": "[encoded data removed]",
      "text/plain": [
       "<Figure size 936x504 with 1 Axes>"
      ]
     },
     "metadata": {
      "needs_background": "light"
     },
     "output_type": "display_data"
    }
   ],
   "source": [
    "fig, ax = plt.subplots(figsize = (13,7))\n",
    "\n",
    "ax.hist(df[df[\"Heart Disease\"]==1][\"Thallium\"], bins=12, alpha=1, color=\"orange\", label=\"Heart Disease\")\n",
    "ax.hist(df[df[\"Heart Disease\"]==0][\"Thallium\"], bins=12, alpha=0.5, color=\"#fccc79\", label=\"Normal\")\n",
    "\n",
    "ax.set_xlabel(\"Thallium\", fontweight ='bold')\n",
    "ax.set_ylabel(\"Frequency\", fontweight ='bold')\n",
    "\n",
    "fig.suptitle(\"Distribution of Cases with Yes/No heartdisease according to Thallium\")\n",
    "\n",
    "ax.legend();"
   ]
  },
  {
   "cell_type": "markdown",
   "id": "67335e53",
   "metadata": {},
   "source": [
    "## 2 | Visualization Of Numerical Features"
   ]
  },
  {
   "cell_type": "code",
   "execution_count": 17,
   "id": "7531f3bb",
   "metadata": {},
   "outputs": [
    {
     "data": {
      "text/plain": [
       "<AxesSubplot:>"
      ]
     },
     "execution_count": 17,
     "metadata": {},
     "output_type": "execute_result"
    },
    {
     "data": {
      "image/png": "[encoded data removed]",
      "text/plain": [
       "<Figure size 1008x504 with 2 Axes>"
      ]
     },
     "metadata": {
      "needs_background": "light"
     },
     "output_type": "display_data"
    }
   ],
   "source": [
    "correlation = df.corr().round(2)\n",
    "plt.figure(figsize = (14,7))\n",
    "sns.heatmap(correlation, annot = True, cmap = 'YlOrBr')"
   ]
  },
  {
   "cell_type": "code",
   "execution_count": 18,
   "id": "3a230974",
   "metadata": {},
   "outputs": [
    {
     "data": {
      "image/png": "[encoded data removed]",
      "text/plain": [
       "<Figure size 936x432 with 1 Axes>"
      ]
     },
     "metadata": {},
     "output_type": "display_data"
    }
   ],
   "source": [
    "sns.set_style('white')\n",
    "sns.set_palette('YlOrBr')\n",
    "plt.figure(figsize = (13,6))\n",
    "plt.title('Distribution of correlation of features')\n",
    "abs(correlation['Heart Disease']).sort_values()[:-1].plot.barh()\n",
    "plt.show()"
   ]
  },
  {
   "cell_type": "code",
   "execution_count": 19,
   "id": "e6cf2b38",
   "metadata": {},
   "outputs": [
    {
     "data": {
      "image/png": "[encoded data removed]",
      "text/plain": [
       "<Figure size 936x360 with 1 Axes>"
      ]
     },
     "metadata": {},
     "output_type": "display_data"
    }
   ],
   "source": [
    "fig, ax = plt.subplots(figsize = (13,5))\n",
    "sns.kdeplot(df[df[\"Heart Disease\"]==1][\"Age\"], alpha=1,shade = True, color=\"red\", label=\"HeartDisease\", ax = ax)\n",
    "sns.kdeplot(df[df[\"Heart Disease\"]==0][\"Age\"], alpha=0.7,shade = True, color=\"#fccc79\", label=\"Normal\", ax = ax)\n",
    "plt.title('Distribution of Age', fontsize = 18)\n",
    "ax.set_xlabel(\"Age\", fontweight ='bold')\n",
    "ax.set_ylabel(\"Frequency\", fontweight ='bold')\n",
    "ax.legend();\n",
    "plt.show()"
   ]
  },
  {
   "cell_type": "code",
   "execution_count": 20,
   "id": "41c1701b",
   "metadata": {},
   "outputs": [
    {
     "data": {
      "image/png": "[encoded data removed]",
      "text/plain": [
       "<Figure size 936x360 with 1 Axes>"
      ]
     },
     "metadata": {},
     "output_type": "display_data"
    }
   ],
   "source": [
    "fig, ax = plt.subplots(figsize = (13,5))\n",
    "sns.kdeplot(df[df[\"Heart Disease\"]==1][\"BP\"], alpha=1,shade = True, color=\"red\", label=\"HeartDisease\", ax = ax)\n",
    "sns.kdeplot(df[df[\"Heart Disease\"]==0][\"BP\"], alpha=0.7,shade = True, color=\"#fccc79\", label=\"Normal\", ax = ax)\n",
    "plt.title('Distribution of BP', fontsize = 18)\n",
    "ax.set_xlabel(\"BP\", fontweight ='bold')\n",
    "ax.set_ylabel(\"Frequency\", fontweight ='bold')\n",
    "ax.legend();\n",
    "plt.show()"
   ]
  },
  {
   "cell_type": "code",
   "execution_count": 21,
   "id": "62556b09",
   "metadata": {},
   "outputs": [
    {
     "data": {
      "image/png": "[encoded data removed]",
      "text/plain": [
       "<Figure size 936x360 with 1 Axes>"
      ]
     },
     "metadata": {},
     "output_type": "display_data"
    }
   ],
   "source": [
    "fig, ax = plt.subplots(figsize = (13,5))\n",
    "sns.kdeplot(df[df[\"Heart Disease\"]==1][\"Cholesterol\"], alpha=1,shade = True, color=\"red\", label=\"HeartDisease\", ax = ax)\n",
    "sns.kdeplot(df[df[\"Heart Disease\"]==0][\"Cholesterol\"], alpha=0.7,shade = True, color=\"#fccc79\", label=\"Normal\", ax = ax)\n",
    "plt.title('Distribution of Cholesterol', fontsize = 18)\n",
    "ax.set_xlabel(\"Cholesterol\", fontweight ='bold')\n",
    "ax.set_ylabel(\"Frequency\", fontweight ='bold')\n",
    "ax.legend();\n",
    "plt.show()"
   ]
  },
  {
   "cell_type": "code",
   "execution_count": 22,
   "id": "90dec795",
   "metadata": {},
   "outputs": [
    {
     "data": {
      "image/png": "[encoded data removed]",
      "text/plain": [
       "<Figure size 936x360 with 1 Axes>"
      ]
     },
     "metadata": {},
     "output_type": "display_data"
    }
   ],
   "source": [
    "fig, ax = plt.subplots(figsize = (13,5))\n",
    "sns.kdeplot(df[df[\"Heart Disease\"]==1][\"Max HR\"], alpha=1,shade = True, color=\"red\", label=\"HeartDisease\", ax = ax)\n",
    "sns.kdeplot(df[df[\"Heart Disease\"]==0][\"Max HR\"], alpha=0.7,shade = True, color=\"#fccc79\", label=\"Normal\", ax = ax)\n",
    "plt.title('Distribution of Max Heart Rate', fontsize = 18)\n",
    "ax.set_xlabel(\"Max HR\", fontweight ='bold')\n",
    "ax.set_ylabel(\"Frequency\", fontweight ='bold')\n",
    "ax.legend();\n",
    "plt.show()"
   ]
  },
  {
   "cell_type": "code",
   "execution_count": 23,
   "id": "38b2982a",
   "metadata": {},
   "outputs": [
    {
     "data": {
      "image/png": "[encoded data removed]",
      "text/plain": [
       "<Figure size 936x360 with 1 Axes>"
      ]
     },
     "metadata": {},
     "output_type": "display_data"
    }
   ],
   "source": [
    "fig, ax = plt.subplots(figsize = (13,5))\n",
    "sns.kdeplot(df[df[\"Heart Disease\"]==1][\"ST depression\"], alpha=1,shade = True, color=\"red\", label=\"HeartDisease\", ax = ax)\n",
    "sns.kdeplot(df[df[\"Heart Disease\"]==0][\"ST depression\"], alpha=0.7,shade = True, color=\"#fccc79\", label=\"Normal\", ax = ax)\n",
    "plt.title('Distribution of ST Depression', fontsize = 18)\n",
    "ax.set_xlabel(\"ST Depression\", fontweight ='bold')\n",
    "ax.set_ylabel(\"Frequency\", fontweight ='bold')\n",
    "ax.legend();\n",
    "plt.show()"
   ]
  },
  {
   "cell_type": "code",
   "execution_count": 24,
   "id": "7532ffcf",
   "metadata": {},
   "outputs": [
    {
     "data": {
      "text/plain": [
       "0    150\n",
       "1    120\n",
       "Name: Heart Disease, dtype: int64"
      ]
     },
     "execution_count": 24,
     "metadata": {},
     "output_type": "execute_result"
    }
   ],
   "source": [
    "getattr(df, 'Heart Disease').value_counts()"
   ]
  },
  {
   "cell_type": "code",
   "execution_count": 25,
   "id": "d25136fb",
   "metadata": {},
   "outputs": [
    {
     "data": {
      "image/png": "[encoded data removed]",
      "text/plain": [
       "<Figure size 432x288 with 1 Axes>"
      ]
     },
     "metadata": {},
     "output_type": "display_data"
    }
   ],
   "source": [
    "sns.countplot(x='Heart Disease', data=df)\n",
    "sns.despine()"
   ]
  },
  {
   "cell_type": "markdown",
   "id": "719cfeb6",
   "metadata": {},
   "source": [
    "# SPLITTING DATASET FOR TRAINING & TESTING"
   ]
  },
  {
   "cell_type": "code",
   "execution_count": 26,
   "id": "8f1e5424",
   "metadata": {},
   "outputs": [
    {
     "name": "stdout",
     "output_type": "stream",
     "text": [
      "Shape of training feature: (216, 13)\n",
      "Shape of testing feature: (54, 13)\n",
      "Shape of training label: (216,)\n",
      "Shape of training label: (54,)\n"
     ]
    }
   ],
   "source": [
    "features = df.drop(columns =['Heart Disease'], axis = 1)\n",
    "\n",
    "#Selecting Target \n",
    "target = df['Heart Disease']\n",
    "\n",
    "# Setting Training and Testing Data\n",
    "from sklearn.model_selection import train_test_split\n",
    "X_train, X_test, y_train, y_test = train_test_split(features, target, shuffle = True, test_size = .2, random_state = 4)\n",
    "\n",
    "print('Shape of training feature:', X_train.shape)\n",
    "print('Shape of testing feature:', X_test.shape)\n",
    "print('Shape of training label:', y_train.shape)\n",
    "print('Shape of training label:', y_test.shape)"
   ]
  },
  {
   "cell_type": "markdown",
   "id": "52fcb048",
   "metadata": {},
   "source": [
    "# DATA PREPROCESSING"
   ]
  },
  {
   "cell_type": "markdown",
   "id": "60c4b862",
   "metadata": {},
   "source": [
    "## 1 | Encoding"
   ]
  },
  {
   "cell_type": "code",
   "execution_count": 27,
   "id": "2e53cbbc",
   "metadata": {},
   "outputs": [],
   "source": [
    "transformer = make_column_transformer(\n",
    "    (OneHotEncoder(sparse=False), ['Chest pain type', 'EKG results', 'Slope of ST', 'Number of vessels fluro', 'Thallium']),\n",
    "    remainder='passthrough')\n",
    "\n",
    "# Encode training data \n",
    "transformed_train = transformer.fit_transform(X_train)\n",
    "transformed_train_data = pd.DataFrame(transformed_train, columns=transformer.get_feature_names())\n",
    "\n",
    "# Concat the two tables\n",
    "transformed_train_data.reset_index(drop=True, inplace=True)\n",
    "X_train.reset_index(drop=True, inplace=True)\n",
    "#X_train = pd.concat([transformed_train_data, X_train], axis=1)\n",
    "X_train = transformed_train_data\n",
    "\n",
    "# Remove old columns\n",
    "#X_train.drop(['Chest pain type', 'EKG results', 'Slope of ST', 'Number of vessels fluro', 'Thallium'], axis = 1, inplace = True)\n",
    "\n",
    "\n",
    "\n",
    "# Encode test data \n",
    "transformed_test = transformer.fit_transform(X_test)\n",
    "transformed_test_data = pd.DataFrame(transformed_test, columns=transformer.get_feature_names())\n",
    "\n",
    "# Concat the two tables\n",
    "transformed_test_data.reset_index(drop=True, inplace=True)\n",
    "X_test.reset_index(drop=True, inplace=True)\n",
    "#X_test = pd.concat([transformed_test_data, X_test], axis=1)\n",
    "X_test = transformed_test_data\n",
    "\n",
    "\n",
    "# Remove old columns\n",
    "#X_test.drop(['Chest pain type', 'EKG results', 'Slope of ST', 'Number of vessels fluro', 'Thallium'], axis = 1, inplace = True)"
   ]
  },
  {
   "cell_type": "code",
   "execution_count": 28,
   "id": "caf45262",
   "metadata": {},
   "outputs": [
    {
     "name": "stdout",
     "output_type": "stream",
     "text": [
      "Shape of testing feature: (54, 25)\n"
     ]
    }
   ],
   "source": [
    "print('Shape of testing feature:', X_test.shape)"
   ]
  },
  {
   "cell_type": "code",
   "execution_count": 29,
   "id": "d3da1ea2-a271-4755-9b31-fbe62c72726d",
   "metadata": {},
   "outputs": [
    {
     "data": {
      "text/plain": [
       "array(['onehotencoder__x0_1', 'onehotencoder__x0_2',\n",
       "       'onehotencoder__x0_3', 'onehotencoder__x0_4',\n",
       "       'onehotencoder__x1_0', 'onehotencoder__x1_1',\n",
       "       'onehotencoder__x1_2', 'onehotencoder__x2_1',\n",
       "       'onehotencoder__x2_2', 'onehotencoder__x2_3',\n",
       "       'onehotencoder__x3_0', 'onehotencoder__x3_1',\n",
       "       'onehotencoder__x3_2', 'onehotencoder__x3_3',\n",
       "       'onehotencoder__x4_3', 'onehotencoder__x4_6',\n",
       "       'onehotencoder__x4_7', 'Age', 'Sex', 'BP', 'Cholesterol',\n",
       "       'FBS over 120', 'Max HR', 'Exercise angina', 'ST depression'],\n",
       "      dtype=object)"
      ]
     },
     "execution_count": 29,
     "metadata": {},
     "output_type": "execute_result"
    }
   ],
   "source": [
    "X_test.columns.values"
   ]
  },
  {
   "cell_type": "markdown",
   "id": "c115ee2f",
   "metadata": {},
   "source": [
    "## 2 | Standardization"
   ]
  },
  {
   "cell_type": "code",
   "execution_count": 30,
   "id": "9bfe13f5",
   "metadata": {},
   "outputs": [],
   "source": [
    "from sklearn.preprocessing import MinMaxScaler\n",
    "scaler = MinMaxScaler(feature_range=(-1,1)).fit(X_train)\n",
    "\n",
    "# Scale training data\n",
    "X_train = scaler.fit_transform(X_train)\n",
    "\n",
    "# Scale test data\n",
    "X_test = scaler.fit_transform(X_test)"
   ]
  },
  {
   "cell_type": "code",
   "execution_count": 31,
   "id": "0b387700",
   "metadata": {},
   "outputs": [
    {
     "name": "stdout",
     "output_type": "stream",
     "text": [
      "Shape of testing feature: (54, 25)\n"
     ]
    }
   ],
   "source": [
    "print('Shape of testing feature:', X_test.shape)"
   ]
  },
  {
   "cell_type": "code",
   "execution_count": 32,
   "id": "4ce64ea8",
   "metadata": {},
   "outputs": [
    {
     "data": {
      "text/plain": [
       "array([[-1.        ,  1.        , -1.        , ...,  0.48387097,\n",
       "        -1.        , -1.        ],\n",
       "       [-1.        , -1.        , -1.        , ...,  0.51612903,\n",
       "         1.        , -0.44444444],\n",
       "       [ 1.        , -1.        , -1.        , ...,  0.61290323,\n",
       "        -1.        , -0.5       ],\n",
       "       ...,\n",
       "       [ 1.        , -1.        , -1.        , ...,  0.19354839,\n",
       "        -1.        ,  0.44444444],\n",
       "       [-1.        , -1.        ,  1.        , ...,  0.74193548,\n",
       "         1.        , -0.77777778],\n",
       "       [-1.        , -1.        , -1.        , ...,  0.41935484,\n",
       "        -1.        , -1.        ]])"
      ]
     },
     "execution_count": 32,
     "metadata": {},
     "output_type": "execute_result"
    }
   ],
   "source": [
    "X_test"
   ]
  },
  {
   "cell_type": "markdown",
   "id": "8ee12e78",
   "metadata": {},
   "source": [
    "# MODELLING"
   ]
  },
  {
   "cell_type": "code",
   "execution_count": 33,
   "id": "fc90b576",
   "metadata": {},
   "outputs": [],
   "source": [
    "def evaluate_model(model, x_test, y_test):\n",
    "    from sklearn import metrics\n",
    "\n",
    "    # Predict Test Data \n",
    "    y_pred = model.predict(x_test)\n",
    "\n",
    "    # Calculate accuracy, precision, recall, f1-score, and kappa score\n",
    "    acc = metrics.accuracy_score(y_test, y_pred)\n",
    "    prec = metrics.precision_score(y_test, y_pred)\n",
    "    rec = metrics.recall_score(y_test, y_pred)\n",
    "    f1 = metrics.f1_score(y_test, y_pred)\n",
    "    kappa = metrics.cohen_kappa_score(y_test, y_pred)\n",
    "\n",
    "    # Calculate area under curve (AUC)\n",
    "    y_pred_proba = model.predict_proba(x_test)[::,1]\n",
    "    fpr, tpr, _ = metrics.roc_curve(y_test, y_pred_proba)\n",
    "    auc = metrics.roc_auc_score(y_test, y_pred_proba)\n",
    "\n",
    "    # Display confussion matrix\n",
    "    cm = metrics.confusion_matrix(y_test, y_pred)\n",
    "\n",
    "    return {'acc': acc, 'prec': prec, 'rec': rec, 'f1': f1, 'kappa': kappa, \n",
    "            'fpr': fpr, 'tpr': tpr, 'auc': auc, 'cm': cm}"
   ]
  },
  {
   "cell_type": "markdown",
   "id": "64d0654d",
   "metadata": {},
   "source": [
    "## 1 | Building Model"
   ]
  },
  {
   "cell_type": "code",
   "execution_count": 34,
   "id": "032d3c87",
   "metadata": {},
   "outputs": [
    {
     "data": {
      "text/plain": [
       "array([[-1.        ,  1.        , -1.        , ...,  0.48387097,\n",
       "        -1.        , -1.        ],\n",
       "       [-1.        , -1.        , -1.        , ...,  0.51612903,\n",
       "         1.        , -0.44444444],\n",
       "       [ 1.        , -1.        , -1.        , ...,  0.61290323,\n",
       "        -1.        , -0.5       ],\n",
       "       ...,\n",
       "       [ 1.        , -1.        , -1.        , ...,  0.19354839,\n",
       "        -1.        ,  0.44444444],\n",
       "       [-1.        , -1.        ,  1.        , ...,  0.74193548,\n",
       "         1.        , -0.77777778],\n",
       "       [-1.        , -1.        , -1.        , ...,  0.41935484,\n",
       "        -1.        , -1.        ]])"
      ]
     },
     "execution_count": 34,
     "metadata": {},
     "output_type": "execute_result"
    }
   ],
   "source": [
    "X_test"
   ]
  },
  {
   "cell_type": "markdown",
   "id": "65a9d002",
   "metadata": {},
   "source": [
    "### Logistic regression"
   ]
  },
  {
   "cell_type": "code",
   "execution_count": 35,
   "id": "86b65bcc",
   "metadata": {},
   "outputs": [
    {
     "name": "stderr",
     "output_type": "stream",
     "text": [
      "C:\\ProgramData\\Anaconda3\\lib\\site-packages\\statsmodels\\tsa\\tsatools.py:142: FutureWarning: In a future version of pandas all arguments of concat except for the argument 'objs' will be keyword-only\n",
      "  x = pd.concat(x[::order], 1)\n"
     ]
    },
    {
     "data": {
      "text/html": [
       "<div>\n",
       "<style scoped>\n",
       "    .dataframe tbody tr th:only-of-type {\n",
       "        vertical-align: middle;\n",
       "    }\n",
       "\n",
       "    .dataframe tbody tr th {\n",
       "        vertical-align: top;\n",
       "    }\n",
       "\n",
       "    .dataframe thead th {\n",
       "        text-align: right;\n",
       "    }\n",
       "</style>\n",
       "<table border=\"1\" class=\"dataframe\">\n",
       "  <thead>\n",
       "    <tr style=\"text-align: right;\">\n",
       "      <th></th>\n",
       "      <th>const</th>\n",
       "      <th>Age</th>\n",
       "      <th>Sex</th>\n",
       "      <th>Chest pain type</th>\n",
       "      <th>BP</th>\n",
       "      <th>Cholesterol</th>\n",
       "      <th>FBS over 120</th>\n",
       "      <th>EKG results</th>\n",
       "      <th>Max HR</th>\n",
       "      <th>Exercise angina</th>\n",
       "      <th>ST depression</th>\n",
       "      <th>Slope of ST</th>\n",
       "      <th>Number of vessels fluro</th>\n",
       "      <th>Thallium</th>\n",
       "      <th>Heart Disease</th>\n",
       "    </tr>\n",
       "  </thead>\n",
       "  <tbody>\n",
       "    <tr>\n",
       "      <th>0</th>\n",
       "      <td>1.0</td>\n",
       "      <td>70</td>\n",
       "      <td>1</td>\n",
       "      <td>4</td>\n",
       "      <td>130</td>\n",
       "      <td>322</td>\n",
       "      <td>0</td>\n",
       "      <td>2</td>\n",
       "      <td>109</td>\n",
       "      <td>0</td>\n",
       "      <td>2.4</td>\n",
       "      <td>2</td>\n",
       "      <td>3</td>\n",
       "      <td>3</td>\n",
       "      <td>1</td>\n",
       "    </tr>\n",
       "    <tr>\n",
       "      <th>1</th>\n",
       "      <td>1.0</td>\n",
       "      <td>67</td>\n",
       "      <td>0</td>\n",
       "      <td>3</td>\n",
       "      <td>115</td>\n",
       "      <td>564</td>\n",
       "      <td>0</td>\n",
       "      <td>2</td>\n",
       "      <td>160</td>\n",
       "      <td>0</td>\n",
       "      <td>1.6</td>\n",
       "      <td>2</td>\n",
       "      <td>0</td>\n",
       "      <td>7</td>\n",
       "      <td>0</td>\n",
       "    </tr>\n",
       "    <tr>\n",
       "      <th>2</th>\n",
       "      <td>1.0</td>\n",
       "      <td>57</td>\n",
       "      <td>1</td>\n",
       "      <td>2</td>\n",
       "      <td>124</td>\n",
       "      <td>261</td>\n",
       "      <td>0</td>\n",
       "      <td>0</td>\n",
       "      <td>141</td>\n",
       "      <td>0</td>\n",
       "      <td>0.3</td>\n",
       "      <td>1</td>\n",
       "      <td>0</td>\n",
       "      <td>7</td>\n",
       "      <td>1</td>\n",
       "    </tr>\n",
       "    <tr>\n",
       "      <th>3</th>\n",
       "      <td>1.0</td>\n",
       "      <td>64</td>\n",
       "      <td>1</td>\n",
       "      <td>4</td>\n",
       "      <td>128</td>\n",
       "      <td>263</td>\n",
       "      <td>0</td>\n",
       "      <td>0</td>\n",
       "      <td>105</td>\n",
       "      <td>1</td>\n",
       "      <td>0.2</td>\n",
       "      <td>2</td>\n",
       "      <td>1</td>\n",
       "      <td>7</td>\n",
       "      <td>0</td>\n",
       "    </tr>\n",
       "    <tr>\n",
       "      <th>4</th>\n",
       "      <td>1.0</td>\n",
       "      <td>74</td>\n",
       "      <td>0</td>\n",
       "      <td>2</td>\n",
       "      <td>120</td>\n",
       "      <td>269</td>\n",
       "      <td>0</td>\n",
       "      <td>2</td>\n",
       "      <td>121</td>\n",
       "      <td>1</td>\n",
       "      <td>0.2</td>\n",
       "      <td>1</td>\n",
       "      <td>1</td>\n",
       "      <td>3</td>\n",
       "      <td>0</td>\n",
       "    </tr>\n",
       "  </tbody>\n",
       "</table>\n",
       "</div>"
      ],
      "text/plain": [
       "   const  Age  Sex  Chest pain type   BP  Cholesterol  FBS over 120  \\\n",
       "0    1.0   70    1                4  130          322             0   \n",
       "1    1.0   67    0                3  115          564             0   \n",
       "2    1.0   57    1                2  124          261             0   \n",
       "3    1.0   64    1                4  128          263             0   \n",
       "4    1.0   74    0                2  120          269             0   \n",
       "\n",
       "   EKG results  Max HR  Exercise angina  ST depression  Slope of ST  \\\n",
       "0            2     109                0            2.4            2   \n",
       "1            2     160                0            1.6            2   \n",
       "2            0     141                0            0.3            1   \n",
       "3            0     105                1            0.2            2   \n",
       "4            2     121                1            0.2            1   \n",
       "\n",
       "   Number of vessels fluro  Thallium  Heart Disease  \n",
       "0                        3         3              1  \n",
       "1                        0         7              0  \n",
       "2                        0         7              1  \n",
       "3                        1         7              0  \n",
       "4                        1         3              0  "
      ]
     },
     "execution_count": 35,
     "metadata": {},
     "output_type": "execute_result"
    }
   ],
   "source": [
    "from statsmodels.tools import add_constant\n",
    "df_constant = add_constant(df)\n",
    "df_constant.head()"
   ]
  },
  {
   "cell_type": "code",
   "execution_count": 36,
   "id": "7db00f0e",
   "metadata": {},
   "outputs": [],
   "source": [
    "from mlxtend.feature_selection import SequentialFeatureSelector as SFS\n",
    "#from sklearn.linear_model import LinearRegression\n",
    "# Sequential Forward Selection(sfs)\n",
    "lr = LogisticRegression(C=1.0, random_state=1)\n",
    "#\n",
    "# Number of features\n",
    "#\n",
    "k_features = 10\n",
    "#\n",
    "# Instantiate SequentialBackwardSearch\n",
    "#\n",
    "sfs = SFS(lr, k_features)\n",
    "#\n",
    "# Fit the data to determine the k_features which give the\n",
    "# most optimal model performance\n",
    "#\n",
    "sfs.fit(X_train, y_train)\n",
    "#\n",
    "# Transform the training data set to dataset having k_features\n",
    "# giving most optimal model performance\n",
    "#\n",
    "X_train_sfs = sfs.transform(X_train)\n",
    "#\n",
    "# Transform the test data set to dataset having k_features\n",
    "#\n",
    "X_test_sfs = sfs.transform(X_test)\n"
   ]
  },
  {
   "cell_type": "code",
   "execution_count": 37,
   "id": "5a149391",
   "metadata": {},
   "outputs": [
    {
     "name": "stdout",
     "output_type": "stream",
     "text": [
      "Warning: Maximum number of iterations has been exceeded.\n",
      "         Current function value: 0.305687\n",
      "         Iterations: 35\n"
     ]
    },
    {
     "name": "stderr",
     "output_type": "stream",
     "text": [
      "C:\\ProgramData\\Anaconda3\\lib\\site-packages\\statsmodels\\base\\model.py:566: ConvergenceWarning: Maximum Likelihood optimization failed to converge. Check mle_retvals\n",
      "  warnings.warn(\"Maximum Likelihood optimization failed to \"\n"
     ]
    },
    {
     "data": {
      "text/html": [
       "<table class=\"simpletable\">\n",
       "<caption>Logit Regression Results</caption>\n",
       "<tr>\n",
       "  <th>Dep. Variable:</th>           <td>y</td>        <th>  No. Observations:  </th>  <td>   216</td>  \n",
       "</tr>\n",
       "<tr>\n",
       "  <th>Model:</th>                 <td>Logit</td>      <th>  Df Residuals:      </th>  <td>   206</td>  \n",
       "</tr>\n",
       "<tr>\n",
       "  <th>Method:</th>                 <td>MLE</td>       <th>  Df Model:          </th>  <td>     9</td>  \n",
       "</tr>\n",
       "<tr>\n",
       "  <th>Date:</th>            <td>Fri, 12 May 2023</td> <th>  Pseudo R-squ.:     </th>  <td>0.5519</td>  \n",
       "</tr>\n",
       "<tr>\n",
       "  <th>Time:</th>                <td>12:16:33</td>     <th>  Log-Likelihood:    </th> <td> -66.028</td> \n",
       "</tr>\n",
       "<tr>\n",
       "  <th>converged:</th>             <td>False</td>      <th>  LL-Null:           </th> <td> -147.34</td> \n",
       "</tr>\n",
       "<tr>\n",
       "  <th>Covariance Type:</th>     <td>nonrobust</td>    <th>  LLR p-value:       </th> <td>2.115e-30</td>\n",
       "</tr>\n",
       "</table>\n",
       "<table class=\"simpletable\">\n",
       "<tr>\n",
       "   <td></td>      <th>coef</th>     <th>std err</th>      <th>z</th>      <th>P>|z|</th>  <th>[0.025</th>    <th>0.975]</th>  \n",
       "</tr>\n",
       "<tr>\n",
       "  <th>x1</th>  <td>    4.3863</td> <td> 3.85e+04</td> <td>    0.000</td> <td> 1.000</td> <td>-7.55e+04</td> <td> 7.55e+04</td>\n",
       "</tr>\n",
       "<tr>\n",
       "  <th>x2</th>  <td>    4.8795</td> <td> 3.85e+04</td> <td>    0.000</td> <td> 1.000</td> <td>-7.55e+04</td> <td> 7.55e+04</td>\n",
       "</tr>\n",
       "<tr>\n",
       "  <th>x3</th>  <td>    4.6595</td> <td> 3.85e+04</td> <td>    0.000</td> <td> 1.000</td> <td>-7.55e+04</td> <td> 7.55e+04</td>\n",
       "</tr>\n",
       "<tr>\n",
       "  <th>x4</th>  <td>    5.6213</td> <td> 3.85e+04</td> <td>    0.000</td> <td> 1.000</td> <td>-7.55e+04</td> <td> 7.55e+04</td>\n",
       "</tr>\n",
       "<tr>\n",
       "  <th>x5</th>  <td>  -10.3881</td> <td> 7.71e+04</td> <td>   -0.000</td> <td> 1.000</td> <td>-1.51e+05</td> <td> 1.51e+05</td>\n",
       "</tr>\n",
       "<tr>\n",
       "  <th>x6</th>  <td>   -0.4218</td> <td>    0.253</td> <td>   -1.668</td> <td> 0.095</td> <td>   -0.917</td> <td>    0.074</td>\n",
       "</tr>\n",
       "<tr>\n",
       "  <th>x7</th>  <td>   -0.9147</td> <td>    0.236</td> <td>   -3.883</td> <td> 0.000</td> <td>   -1.376</td> <td>   -0.453</td>\n",
       "</tr>\n",
       "<tr>\n",
       "  <th>x8</th>  <td>   -1.0599</td> <td>    0.231</td> <td>   -4.586</td> <td> 0.000</td> <td>   -1.513</td> <td>   -0.607</td>\n",
       "</tr>\n",
       "<tr>\n",
       "  <th>x9</th>  <td>    0.6177</td> <td>    0.244</td> <td>    2.535</td> <td> 0.011</td> <td>    0.140</td> <td>    1.095</td>\n",
       "</tr>\n",
       "<tr>\n",
       "  <th>x10</th> <td>    1.7135</td> <td>    0.796</td> <td>    2.153</td> <td> 0.031</td> <td>    0.154</td> <td>    3.273</td>\n",
       "</tr>\n",
       "</table>"
      ],
      "text/plain": [
       "<class 'statsmodels.iolib.summary.Summary'>\n",
       "\"\"\"\n",
       "                           Logit Regression Results                           \n",
       "==============================================================================\n",
       "Dep. Variable:                      y   No. Observations:                  216\n",
       "Model:                          Logit   Df Residuals:                      206\n",
       "Method:                           MLE   Df Model:                            9\n",
       "Date:                Fri, 12 May 2023   Pseudo R-squ.:                  0.5519\n",
       "Time:                        12:16:33   Log-Likelihood:                -66.028\n",
       "converged:                      False   LL-Null:                       -147.34\n",
       "Covariance Type:            nonrobust   LLR p-value:                 2.115e-30\n",
       "==============================================================================\n",
       "                 coef    std err          z      P>|z|      [0.025      0.975]\n",
       "------------------------------------------------------------------------------\n",
       "x1             4.3863   3.85e+04      0.000      1.000   -7.55e+04    7.55e+04\n",
       "x2             4.8795   3.85e+04      0.000      1.000   -7.55e+04    7.55e+04\n",
       "x3             4.6595   3.85e+04      0.000      1.000   -7.55e+04    7.55e+04\n",
       "x4             5.6213   3.85e+04      0.000      1.000   -7.55e+04    7.55e+04\n",
       "x5           -10.3881   7.71e+04     -0.000      1.000   -1.51e+05    1.51e+05\n",
       "x6            -0.4218      0.253     -1.668      0.095      -0.917       0.074\n",
       "x7            -0.9147      0.236     -3.883      0.000      -1.376      -0.453\n",
       "x8            -1.0599      0.231     -4.586      0.000      -1.513      -0.607\n",
       "x9             0.6177      0.244      2.535      0.011       0.140       1.095\n",
       "x10            1.7135      0.796      2.153      0.031       0.154       3.273\n",
       "==============================================================================\n",
       "\"\"\""
      ]
     },
     "execution_count": 37,
     "metadata": {},
     "output_type": "execute_result"
    }
   ],
   "source": [
    "model=sm.Logit(np.asarray(y_train),np.asarray(X_train_sfs))\n",
    "result=model.fit()\n",
    "joblib.dump(model, 'assets/model/logi_regressionDet.sav')\n",
    "result.summary()"
   ]
  },
  {
   "cell_type": "code",
   "execution_count": null,
   "id": "737f66aa-e7ea-44c1-b2f3-38833c80bdcf",
   "metadata": {},
   "outputs": [],
   "source": []
  },
  {
   "cell_type": "markdown",
   "id": "2d66316f",
   "metadata": {},
   "source": [
    "### Decision Tree"
   ]
  },
  {
   "cell_type": "code",
   "execution_count": 38,
   "id": "cfc40dd9",
   "metadata": {},
   "outputs": [
    {
     "name": "stdout",
     "output_type": "stream",
     "text": [
      "Accuracy: 0.7037037037037037\n",
      "Precision: 0.7307692307692307\n",
      "Recall: 0.6785714285714286\n",
      "F1 Score: 0.7037037037037038\n",
      "Cohens Kappa Score: 0.40821917808219177\n",
      "Area Under Curve: 0.7046703296703297\n",
      "Confusion Matrix:\n",
      " [[19  7]\n",
      " [ 9 19]]\n"
     ]
    }
   ],
   "source": [
    "# Building Decision Tree model \n",
    "\n",
    "clf = tree.DecisionTreeClassifier(random_state=0)\n",
    "clf.fit(X_train, y_train)\n",
    "\n",
    "#filename = 'finalized_model.sav'\n",
    "joblib.dump(clf, 'assets/model/decision_treeDet.sav')\n",
    "# Evaluating Model\n",
    "clf_eval = evaluate_model(clf, X_test, y_test)\n",
    "\n",
    "# Print result\n",
    "print('Accuracy:', clf_eval['acc'])\n",
    "print('Precision:', clf_eval['prec'])\n",
    "print('Recall:', clf_eval['rec'])\n",
    "print('F1 Score:', clf_eval['f1'])\n",
    "print('Cohens Kappa Score:', clf_eval['kappa'])\n",
    "print('Area Under Curve:', clf_eval['auc'])\n",
    "print('Confusion Matrix:\\n', clf_eval['cm'])# Evaluate Model"
   ]
  },
  {
   "cell_type": "code",
   "execution_count": 39,
   "id": "76b0457e",
   "metadata": {},
   "outputs": [
    {
     "data": {
      "text/plain": [
       "<AxesSubplot:>"
      ]
     },
     "execution_count": 39,
     "metadata": {},
     "output_type": "execute_result"
    },
    {
     "data": {
      "image/png": "[encoded data removed]",
      "text/plain": [
       "<Figure size 576x360 with 2 Axes>"
      ]
     },
     "metadata": {},
     "output_type": "display_data"
    }
   ],
   "source": [
    "cm = clf_eval['cm']\n",
    "conf_matrix=pd.DataFrame(data=cm,columns=['Predicted:0','Predicted:1'],index=['Actual:0','Actual:1'])\n",
    "plt.figure(figsize = (8,5))\n",
    "sns.heatmap(conf_matrix, annot=True,fmt='d',cmap=\"YlGnBu\")"
   ]
  },
  {
   "cell_type": "markdown",
   "id": "1a8cf679",
   "metadata": {},
   "source": [
    "### K-Nearest Neighbors"
   ]
  },
  {
   "cell_type": "code",
   "execution_count": 40,
   "id": "c4395d98",
   "metadata": {},
   "outputs": [
    {
     "name": "stdout",
     "output_type": "stream",
     "text": [
      "Accuracy: 0.7037037037037037\n",
      "Precision: 0.8\n",
      "Recall: 0.5714285714285714\n",
      "F1 Score: 0.6666666666666666\n",
      "Cohens Kappa Score: 0.4130434782608696\n",
      "Area Under Curve: 0.8585164835164836\n",
      "Confusion Matrix:\n",
      " [[22  4]\n",
      " [12 16]]\n"
     ]
    }
   ],
   "source": [
    "knn = KNeighborsClassifier(n_neighbors = 5)\n",
    "\n",
    "knn.fit(X_train, y_train)\n",
    "\n",
    "joblib.dump(clf, 'assets/model/KNNDet.sav')\n",
    "\n",
    "# Evaluate Model\n",
    "knn_eval = evaluate_model(knn, X_test, y_test)\n",
    "\n",
    "# Print result\n",
    "print('Accuracy:', knn_eval['acc'])\n",
    "print('Precision:', knn_eval['prec'])\n",
    "print('Recall:', knn_eval['rec'])\n",
    "print('F1 Score:', knn_eval['f1'])\n",
    "print('Cohens Kappa Score:', knn_eval['kappa'])\n",
    "print('Area Under Curve:', knn_eval['auc'])\n",
    "print('Confusion Matrix:\\n', knn_eval['cm'])"
   ]
  },
  {
   "cell_type": "code",
   "execution_count": 41,
   "id": "94bac5a4",
   "metadata": {},
   "outputs": [
    {
     "data": {
      "text/plain": [
       "<AxesSubplot:>"
      ]
     },
     "execution_count": 41,
     "metadata": {},
     "output_type": "execute_result"
    },
    {
     "data": {
      "image/png": "[encoded data removed]",
      "text/plain": [
       "<Figure size 576x360 with 2 Axes>"
      ]
     },
     "metadata": {},
     "output_type": "display_data"
    }
   ],
   "source": [
    "cm = knn_eval['cm']\n",
    "conf_matrix=pd.DataFrame(data=cm,columns=['Predicted:0','Predicted:1'],index=['Actual:0','Actual:1'])\n",
    "plt.figure(figsize = (8,5))\n",
    "sns.heatmap(conf_matrix, annot=True,fmt='d',cmap=\"YlGnBu\")"
   ]
  },
  {
   "cell_type": "markdown",
   "id": "39879517",
   "metadata": {},
   "source": [
    "## predicting using new data"
   ]
  },
  {
   "cell_type": "code",
   "execution_count": 42,
   "id": "b06729fc",
   "metadata": {},
   "outputs": [],
   "source": [
    "#Loading the saved model with joblib\n",
    "pipe = joblib.load('assets/model/decision_treeDet.sav')\n",
    "\n",
    "# New data to predict\n",
    "pr = pd.read_csv('input/set_to_predict.csv')"
   ]
  },
  {
   "cell_type": "markdown",
   "id": "caa1f9b1",
   "metadata": {},
   "source": [
    "### Encoding the data"
   ]
  },
  {
   "cell_type": "code",
   "execution_count": 49,
   "id": "65e504cd",
   "metadata": {},
   "outputs": [],
   "source": [
    "X = pr\n",
    "transformer = make_column_transformer(\n",
    "    (OneHotEncoder(sparse=False), ['Chest pain type', 'EKG results', 'Slope of ST', 'Number of vessels fluro', 'Thallium']),\n",
    "    remainder='passthrough')\n",
    "\n",
    "# Encode test data \n",
    "transformed_test = transformer.fit_transform(X)\n",
    "transformed_test_data = pd.DataFrame(transformed_test, columns=transformer.get_feature_names())\n",
    "\n",
    "# Concat the two tables\n",
    "transformed_test_data.reset_index(drop=True, inplace=True)\n",
    "X.reset_index(drop=True, inplace=True)\n",
    "#X = pd.concat([transformed_test_data, X], axis=1)\n",
    "X = transformed_test_data\n",
    "\n",
    "# Remove old columns\n",
    "#X.drop(['Chest pain type', 'EKG results', 'Slope of ST', 'Number of vessels fluro', 'Thallium'], axis = 1, inplace = True)"
   ]
  },
  {
   "cell_type": "code",
   "execution_count": 50,
   "id": "cfe64775",
   "metadata": {},
   "outputs": [
    {
     "data": {
      "text/plain": [
       "array(['onehotencoder__x0_1', 'onehotencoder__x0_2',\n",
       "       'onehotencoder__x0_3', 'onehotencoder__x0_4',\n",
       "       'onehotencoder__x1_0', 'onehotencoder__x1_1',\n",
       "       'onehotencoder__x1_2', 'onehotencoder__x2_1',\n",
       "       'onehotencoder__x2_2', 'onehotencoder__x2_3',\n",
       "       'onehotencoder__x3_0', 'onehotencoder__x3_1',\n",
       "       'onehotencoder__x3_2', 'onehotencoder__x3_3',\n",
       "       'onehotencoder__x4_3', 'onehotencoder__x4_6',\n",
       "       'onehotencoder__x4_7', 'Age', 'Sex', 'BP', 'Cholesterol',\n",
       "       'FBS over 120', 'Max HR', 'Exercise angina', 'ST depression'],\n",
       "      dtype=object)"
      ]
     },
     "execution_count": 50,
     "metadata": {},
     "output_type": "execute_result"
    }
   ],
   "source": [
    "X.columns.values"
   ]
  },
  {
   "cell_type": "code",
   "execution_count": 51,
   "id": "3cea972e-f319-4764-83fb-4d6099f4fca1",
   "metadata": {},
   "outputs": [
    {
     "data": {
      "text/html": [
       "<div>\n",
       "<style scoped>\n",
       "    .dataframe tbody tr th:only-of-type {\n",
       "        vertical-align: middle;\n",
       "    }\n",
       "\n",
       "    .dataframe tbody tr th {\n",
       "        vertical-align: top;\n",
       "    }\n",
       "\n",
       "    .dataframe thead th {\n",
       "        text-align: right;\n",
       "    }\n",
       "</style>\n",
       "<table border=\"1\" class=\"dataframe\">\n",
       "  <thead>\n",
       "    <tr style=\"text-align: right;\">\n",
       "      <th></th>\n",
       "      <th>onehotencoder__x0_1</th>\n",
       "      <th>onehotencoder__x0_2</th>\n",
       "      <th>onehotencoder__x0_3</th>\n",
       "      <th>onehotencoder__x0_4</th>\n",
       "      <th>onehotencoder__x1_0</th>\n",
       "      <th>onehotencoder__x1_1</th>\n",
       "      <th>onehotencoder__x1_2</th>\n",
       "      <th>onehotencoder__x2_1</th>\n",
       "      <th>onehotencoder__x2_2</th>\n",
       "      <th>onehotencoder__x2_3</th>\n",
       "      <th>...</th>\n",
       "      <th>onehotencoder__x4_6</th>\n",
       "      <th>onehotencoder__x4_7</th>\n",
       "      <th>Age</th>\n",
       "      <th>Sex</th>\n",
       "      <th>BP</th>\n",
       "      <th>Cholesterol</th>\n",
       "      <th>FBS over 120</th>\n",
       "      <th>Max HR</th>\n",
       "      <th>Exercise angina</th>\n",
       "      <th>ST depression</th>\n",
       "    </tr>\n",
       "  </thead>\n",
       "  <tbody>\n",
       "    <tr>\n",
       "      <th>0</th>\n",
       "      <td>0.0</td>\n",
       "      <td>0.0</td>\n",
       "      <td>0.0</td>\n",
       "      <td>1.0</td>\n",
       "      <td>0.0</td>\n",
       "      <td>0.0</td>\n",
       "      <td>1.0</td>\n",
       "      <td>0.0</td>\n",
       "      <td>1.0</td>\n",
       "      <td>0.0</td>\n",
       "      <td>...</td>\n",
       "      <td>0.0</td>\n",
       "      <td>0.0</td>\n",
       "      <td>70.0</td>\n",
       "      <td>1.0</td>\n",
       "      <td>130.0</td>\n",
       "      <td>322.0</td>\n",
       "      <td>0.0</td>\n",
       "      <td>109.0</td>\n",
       "      <td>0.0</td>\n",
       "      <td>2.4</td>\n",
       "    </tr>\n",
       "    <tr>\n",
       "      <th>1</th>\n",
       "      <td>0.0</td>\n",
       "      <td>0.0</td>\n",
       "      <td>1.0</td>\n",
       "      <td>0.0</td>\n",
       "      <td>0.0</td>\n",
       "      <td>0.0</td>\n",
       "      <td>1.0</td>\n",
       "      <td>0.0</td>\n",
       "      <td>1.0</td>\n",
       "      <td>0.0</td>\n",
       "      <td>...</td>\n",
       "      <td>0.0</td>\n",
       "      <td>1.0</td>\n",
       "      <td>67.0</td>\n",
       "      <td>0.0</td>\n",
       "      <td>115.0</td>\n",
       "      <td>564.0</td>\n",
       "      <td>0.0</td>\n",
       "      <td>160.0</td>\n",
       "      <td>0.0</td>\n",
       "      <td>1.6</td>\n",
       "    </tr>\n",
       "    <tr>\n",
       "      <th>2</th>\n",
       "      <td>0.0</td>\n",
       "      <td>1.0</td>\n",
       "      <td>0.0</td>\n",
       "      <td>0.0</td>\n",
       "      <td>1.0</td>\n",
       "      <td>0.0</td>\n",
       "      <td>0.0</td>\n",
       "      <td>1.0</td>\n",
       "      <td>0.0</td>\n",
       "      <td>0.0</td>\n",
       "      <td>...</td>\n",
       "      <td>0.0</td>\n",
       "      <td>1.0</td>\n",
       "      <td>57.0</td>\n",
       "      <td>1.0</td>\n",
       "      <td>124.0</td>\n",
       "      <td>261.0</td>\n",
       "      <td>0.0</td>\n",
       "      <td>141.0</td>\n",
       "      <td>0.0</td>\n",
       "      <td>0.3</td>\n",
       "    </tr>\n",
       "    <tr>\n",
       "      <th>3</th>\n",
       "      <td>0.0</td>\n",
       "      <td>0.0</td>\n",
       "      <td>0.0</td>\n",
       "      <td>1.0</td>\n",
       "      <td>1.0</td>\n",
       "      <td>0.0</td>\n",
       "      <td>0.0</td>\n",
       "      <td>0.0</td>\n",
       "      <td>1.0</td>\n",
       "      <td>0.0</td>\n",
       "      <td>...</td>\n",
       "      <td>0.0</td>\n",
       "      <td>1.0</td>\n",
       "      <td>64.0</td>\n",
       "      <td>1.0</td>\n",
       "      <td>128.0</td>\n",
       "      <td>263.0</td>\n",
       "      <td>0.0</td>\n",
       "      <td>105.0</td>\n",
       "      <td>1.0</td>\n",
       "      <td>0.2</td>\n",
       "    </tr>\n",
       "    <tr>\n",
       "      <th>4</th>\n",
       "      <td>0.0</td>\n",
       "      <td>1.0</td>\n",
       "      <td>0.0</td>\n",
       "      <td>0.0</td>\n",
       "      <td>0.0</td>\n",
       "      <td>0.0</td>\n",
       "      <td>1.0</td>\n",
       "      <td>1.0</td>\n",
       "      <td>0.0</td>\n",
       "      <td>0.0</td>\n",
       "      <td>...</td>\n",
       "      <td>0.0</td>\n",
       "      <td>0.0</td>\n",
       "      <td>74.0</td>\n",
       "      <td>0.0</td>\n",
       "      <td>120.0</td>\n",
       "      <td>269.0</td>\n",
       "      <td>0.0</td>\n",
       "      <td>121.0</td>\n",
       "      <td>1.0</td>\n",
       "      <td>0.2</td>\n",
       "    </tr>\n",
       "    <tr>\n",
       "      <th>5</th>\n",
       "      <td>0.0</td>\n",
       "      <td>0.0</td>\n",
       "      <td>0.0</td>\n",
       "      <td>1.0</td>\n",
       "      <td>1.0</td>\n",
       "      <td>0.0</td>\n",
       "      <td>0.0</td>\n",
       "      <td>1.0</td>\n",
       "      <td>0.0</td>\n",
       "      <td>0.0</td>\n",
       "      <td>...</td>\n",
       "      <td>0.0</td>\n",
       "      <td>1.0</td>\n",
       "      <td>65.0</td>\n",
       "      <td>1.0</td>\n",
       "      <td>120.0</td>\n",
       "      <td>177.0</td>\n",
       "      <td>0.0</td>\n",
       "      <td>140.0</td>\n",
       "      <td>0.0</td>\n",
       "      <td>0.4</td>\n",
       "    </tr>\n",
       "    <tr>\n",
       "      <th>6</th>\n",
       "      <td>0.0</td>\n",
       "      <td>0.0</td>\n",
       "      <td>1.0</td>\n",
       "      <td>0.0</td>\n",
       "      <td>0.0</td>\n",
       "      <td>0.0</td>\n",
       "      <td>1.0</td>\n",
       "      <td>0.0</td>\n",
       "      <td>1.0</td>\n",
       "      <td>0.0</td>\n",
       "      <td>...</td>\n",
       "      <td>1.0</td>\n",
       "      <td>0.0</td>\n",
       "      <td>56.0</td>\n",
       "      <td>1.0</td>\n",
       "      <td>130.0</td>\n",
       "      <td>256.0</td>\n",
       "      <td>1.0</td>\n",
       "      <td>142.0</td>\n",
       "      <td>1.0</td>\n",
       "      <td>0.6</td>\n",
       "    </tr>\n",
       "    <tr>\n",
       "      <th>7</th>\n",
       "      <td>0.0</td>\n",
       "      <td>0.0</td>\n",
       "      <td>0.0</td>\n",
       "      <td>1.0</td>\n",
       "      <td>0.0</td>\n",
       "      <td>0.0</td>\n",
       "      <td>1.0</td>\n",
       "      <td>0.0</td>\n",
       "      <td>1.0</td>\n",
       "      <td>0.0</td>\n",
       "      <td>...</td>\n",
       "      <td>0.0</td>\n",
       "      <td>1.0</td>\n",
       "      <td>59.0</td>\n",
       "      <td>1.0</td>\n",
       "      <td>110.0</td>\n",
       "      <td>239.0</td>\n",
       "      <td>0.0</td>\n",
       "      <td>142.0</td>\n",
       "      <td>1.0</td>\n",
       "      <td>1.2</td>\n",
       "    </tr>\n",
       "    <tr>\n",
       "      <th>8</th>\n",
       "      <td>0.0</td>\n",
       "      <td>0.0</td>\n",
       "      <td>0.0</td>\n",
       "      <td>1.0</td>\n",
       "      <td>0.0</td>\n",
       "      <td>0.0</td>\n",
       "      <td>1.0</td>\n",
       "      <td>0.0</td>\n",
       "      <td>1.0</td>\n",
       "      <td>0.0</td>\n",
       "      <td>...</td>\n",
       "      <td>0.0</td>\n",
       "      <td>1.0</td>\n",
       "      <td>60.0</td>\n",
       "      <td>1.0</td>\n",
       "      <td>140.0</td>\n",
       "      <td>293.0</td>\n",
       "      <td>0.0</td>\n",
       "      <td>170.0</td>\n",
       "      <td>0.0</td>\n",
       "      <td>1.2</td>\n",
       "    </tr>\n",
       "    <tr>\n",
       "      <th>9</th>\n",
       "      <td>0.0</td>\n",
       "      <td>0.0</td>\n",
       "      <td>1.0</td>\n",
       "      <td>0.0</td>\n",
       "      <td>0.0</td>\n",
       "      <td>1.0</td>\n",
       "      <td>0.0</td>\n",
       "      <td>0.0</td>\n",
       "      <td>1.0</td>\n",
       "      <td>0.0</td>\n",
       "      <td>...</td>\n",
       "      <td>0.0</td>\n",
       "      <td>0.0</td>\n",
       "      <td>76.0</td>\n",
       "      <td>0.0</td>\n",
       "      <td>140.0</td>\n",
       "      <td>197.0</td>\n",
       "      <td>0.0</td>\n",
       "      <td>116.0</td>\n",
       "      <td>0.0</td>\n",
       "      <td>1.1</td>\n",
       "    </tr>\n",
       "    <tr>\n",
       "      <th>10</th>\n",
       "      <td>1.0</td>\n",
       "      <td>0.0</td>\n",
       "      <td>0.0</td>\n",
       "      <td>0.0</td>\n",
       "      <td>1.0</td>\n",
       "      <td>0.0</td>\n",
       "      <td>0.0</td>\n",
       "      <td>0.0</td>\n",
       "      <td>1.0</td>\n",
       "      <td>0.0</td>\n",
       "      <td>...</td>\n",
       "      <td>0.0</td>\n",
       "      <td>0.0</td>\n",
       "      <td>61.0</td>\n",
       "      <td>1.0</td>\n",
       "      <td>134.0</td>\n",
       "      <td>234.0</td>\n",
       "      <td>0.0</td>\n",
       "      <td>145.0</td>\n",
       "      <td>0.0</td>\n",
       "      <td>2.6</td>\n",
       "    </tr>\n",
       "    <tr>\n",
       "      <th>11</th>\n",
       "      <td>0.0</td>\n",
       "      <td>1.0</td>\n",
       "      <td>0.0</td>\n",
       "      <td>0.0</td>\n",
       "      <td>0.0</td>\n",
       "      <td>0.0</td>\n",
       "      <td>1.0</td>\n",
       "      <td>1.0</td>\n",
       "      <td>0.0</td>\n",
       "      <td>0.0</td>\n",
       "      <td>...</td>\n",
       "      <td>1.0</td>\n",
       "      <td>0.0</td>\n",
       "      <td>57.0</td>\n",
       "      <td>1.0</td>\n",
       "      <td>130.0</td>\n",
       "      <td>300.0</td>\n",
       "      <td>1.0</td>\n",
       "      <td>130.0</td>\n",
       "      <td>1.0</td>\n",
       "      <td>1.6</td>\n",
       "    </tr>\n",
       "    <tr>\n",
       "      <th>12</th>\n",
       "      <td>0.0</td>\n",
       "      <td>0.0</td>\n",
       "      <td>0.0</td>\n",
       "      <td>1.0</td>\n",
       "      <td>0.0</td>\n",
       "      <td>0.0</td>\n",
       "      <td>1.0</td>\n",
       "      <td>0.0</td>\n",
       "      <td>0.0</td>\n",
       "      <td>1.0</td>\n",
       "      <td>...</td>\n",
       "      <td>0.0</td>\n",
       "      <td>1.0</td>\n",
       "      <td>53.0</td>\n",
       "      <td>1.0</td>\n",
       "      <td>140.0</td>\n",
       "      <td>203.0</td>\n",
       "      <td>1.0</td>\n",
       "      <td>155.0</td>\n",
       "      <td>1.0</td>\n",
       "      <td>3.1</td>\n",
       "    </tr>\n",
       "  </tbody>\n",
       "</table>\n",
       "<p>13 rows × 25 columns</p>\n",
       "</div>"
      ],
      "text/plain": [
       "    onehotencoder__x0_1  onehotencoder__x0_2  onehotencoder__x0_3  \\\n",
       "0                   0.0                  0.0                  0.0   \n",
       "1                   0.0                  0.0                  1.0   \n",
       "2                   0.0                  1.0                  0.0   \n",
       "3                   0.0                  0.0                  0.0   \n",
       "4                   0.0                  1.0                  0.0   \n",
       "5                   0.0                  0.0                  0.0   \n",
       "6                   0.0                  0.0                  1.0   \n",
       "7                   0.0                  0.0                  0.0   \n",
       "8                   0.0                  0.0                  0.0   \n",
       "9                   0.0                  0.0                  1.0   \n",
       "10                  1.0                  0.0                  0.0   \n",
       "11                  0.0                  1.0                  0.0   \n",
       "12                  0.0                  0.0                  0.0   \n",
       "\n",
       "    onehotencoder__x0_4  onehotencoder__x1_0  onehotencoder__x1_1  \\\n",
       "0                   1.0                  0.0                  0.0   \n",
       "1                   0.0                  0.0                  0.0   \n",
       "2                   0.0                  1.0                  0.0   \n",
       "3                   1.0                  1.0                  0.0   \n",
       "4                   0.0                  0.0                  0.0   \n",
       "5                   1.0                  1.0                  0.0   \n",
       "6                   0.0                  0.0                  0.0   \n",
       "7                   1.0                  0.0                  0.0   \n",
       "8                   1.0                  0.0                  0.0   \n",
       "9                   0.0                  0.0                  1.0   \n",
       "10                  0.0                  1.0                  0.0   \n",
       "11                  0.0                  0.0                  0.0   \n",
       "12                  1.0                  0.0                  0.0   \n",
       "\n",
       "    onehotencoder__x1_2  onehotencoder__x2_1  onehotencoder__x2_2  \\\n",
       "0                   1.0                  0.0                  1.0   \n",
       "1                   1.0                  0.0                  1.0   \n",
       "2                   0.0                  1.0                  0.0   \n",
       "3                   0.0                  0.0                  1.0   \n",
       "4                   1.0                  1.0                  0.0   \n",
       "5                   0.0                  1.0                  0.0   \n",
       "6                   1.0                  0.0                  1.0   \n",
       "7                   1.0                  0.0                  1.0   \n",
       "8                   1.0                  0.0                  1.0   \n",
       "9                   0.0                  0.0                  1.0   \n",
       "10                  0.0                  0.0                  1.0   \n",
       "11                  1.0                  1.0                  0.0   \n",
       "12                  1.0                  0.0                  0.0   \n",
       "\n",
       "    onehotencoder__x2_3  ...  onehotencoder__x4_6  onehotencoder__x4_7   Age  \\\n",
       "0                   0.0  ...                  0.0                  0.0  70.0   \n",
       "1                   0.0  ...                  0.0                  1.0  67.0   \n",
       "2                   0.0  ...                  0.0                  1.0  57.0   \n",
       "3                   0.0  ...                  0.0                  1.0  64.0   \n",
       "4                   0.0  ...                  0.0                  0.0  74.0   \n",
       "5                   0.0  ...                  0.0                  1.0  65.0   \n",
       "6                   0.0  ...                  1.0                  0.0  56.0   \n",
       "7                   0.0  ...                  0.0                  1.0  59.0   \n",
       "8                   0.0  ...                  0.0                  1.0  60.0   \n",
       "9                   0.0  ...                  0.0                  0.0  76.0   \n",
       "10                  0.0  ...                  0.0                  0.0  61.0   \n",
       "11                  0.0  ...                  1.0                  0.0  57.0   \n",
       "12                  1.0  ...                  0.0                  1.0  53.0   \n",
       "\n",
       "    Sex     BP  Cholesterol  FBS over 120  Max HR  Exercise angina  \\\n",
       "0   1.0  130.0        322.0           0.0   109.0              0.0   \n",
       "1   0.0  115.0        564.0           0.0   160.0              0.0   \n",
       "2   1.0  124.0        261.0           0.0   141.0              0.0   \n",
       "3   1.0  128.0        263.0           0.0   105.0              1.0   \n",
       "4   0.0  120.0        269.0           0.0   121.0              1.0   \n",
       "5   1.0  120.0        177.0           0.0   140.0              0.0   \n",
       "6   1.0  130.0        256.0           1.0   142.0              1.0   \n",
       "7   1.0  110.0        239.0           0.0   142.0              1.0   \n",
       "8   1.0  140.0        293.0           0.0   170.0              0.0   \n",
       "9   0.0  140.0        197.0           0.0   116.0              0.0   \n",
       "10  1.0  134.0        234.0           0.0   145.0              0.0   \n",
       "11  1.0  130.0        300.0           1.0   130.0              1.0   \n",
       "12  1.0  140.0        203.0           1.0   155.0              1.0   \n",
       "\n",
       "    ST depression  \n",
       "0             2.4  \n",
       "1             1.6  \n",
       "2             0.3  \n",
       "3             0.2  \n",
       "4             0.2  \n",
       "5             0.4  \n",
       "6             0.6  \n",
       "7             1.2  \n",
       "8             1.2  \n",
       "9             1.1  \n",
       "10            2.6  \n",
       "11            1.6  \n",
       "12            3.1  \n",
       "\n",
       "[13 rows x 25 columns]"
      ]
     },
     "execution_count": 51,
     "metadata": {},
     "output_type": "execute_result"
    }
   ],
   "source": [
    "X"
   ]
  },
  {
   "cell_type": "code",
   "execution_count": 52,
   "id": "62ac77d1-0c29-421e-8d64-edd7f9e7f28e",
   "metadata": {},
   "outputs": [],
   "source": [
    "from sklearn.preprocessing import MinMaxScaler\n",
    "scaler = MinMaxScaler(feature_range=(-1,1)).fit(X)\n",
    "\n",
    "# Scale test data\n",
    "X = scaler.fit_transform(X)"
   ]
  },
  {
   "cell_type": "code",
   "execution_count": 53,
   "id": "c092ff8f",
   "metadata": {},
   "outputs": [
    {
     "name": "stdout",
     "output_type": "stream",
     "text": [
      "Shape of testing feature: (13, 25)\n"
     ]
    }
   ],
   "source": [
    "print('Shape of testing feature:', X.shape)"
   ]
  },
  {
   "cell_type": "code",
   "execution_count": 54,
   "id": "12020a69",
   "metadata": {},
   "outputs": [
    {
     "name": "stdout",
     "output_type": "stream",
     "text": [
      "[1]\n"
     ]
    }
   ],
   "source": [
    "pred_cols = list(X[-1])\n",
    "\n",
    "# apply the whole pipeline to data\n",
    "pred = pipe.predict(X[[-1]])\n",
    "print(pred)"
   ]
  },
  {
   "cell_type": "code",
   "execution_count": 72,
   "id": "9e7f11b3",
   "metadata": {},
   "outputs": [],
   "source": [
    "import pandas as pd\n",
    "import joblib\n",
    "from sklearn.preprocessing import StandardScaler, OneHotEncoder\n",
    "from sklearn.compose import make_column_transformer\n",
    "\n",
    "from sklearn.preprocessing import MinMaxScaler\n",
    "from sklearn.preprocessing import OneHotEncoder"
   ]
  },
  {
   "cell_type": "code",
   "execution_count": 73,
   "id": "8150181e-f18a-42e0-9dc6-5bc1001814e7",
   "metadata": {},
   "outputs": [
    {
     "data": {
      "text/html": [
       "<div>\n",
       "<style scoped>\n",
       "    .dataframe tbody tr th:only-of-type {\n",
       "        vertical-align: middle;\n",
       "    }\n",
       "\n",
       "    .dataframe tbody tr th {\n",
       "        vertical-align: top;\n",
       "    }\n",
       "\n",
       "    .dataframe thead th {\n",
       "        text-align: right;\n",
       "    }\n",
       "</style>\n",
       "<table border=\"1\" class=\"dataframe\">\n",
       "  <thead>\n",
       "    <tr style=\"text-align: right;\">\n",
       "      <th></th>\n",
       "      <th>Age</th>\n",
       "      <th>Gender</th>\n",
       "      <th>ChestPain</th>\n",
       "      <th>BP</th>\n",
       "      <th>Cholesterol</th>\n",
       "      <th>FBS120</th>\n",
       "      <th>RES</th>\n",
       "      <th>MaxHeart</th>\n",
       "      <th>ExerAngina</th>\n",
       "      <th>STDepression</th>\n",
       "      <th>SlopeST</th>\n",
       "      <th>NumVesselFluro</th>\n",
       "      <th>Thallium</th>\n",
       "    </tr>\n",
       "  </thead>\n",
       "  <tbody>\n",
       "    <tr>\n",
       "      <th>0</th>\n",
       "      <td>21</td>\n",
       "      <td>1</td>\n",
       "      <td>1</td>\n",
       "      <td>90</td>\n",
       "      <td>80</td>\n",
       "      <td>1</td>\n",
       "      <td>0</td>\n",
       "      <td>84</td>\n",
       "      <td>1</td>\n",
       "      <td>1.5</td>\n",
       "      <td>1</td>\n",
       "      <td>1</td>\n",
       "      <td>3</td>\n",
       "    </tr>\n",
       "    <tr>\n",
       "      <th>1</th>\n",
       "      <td>120</td>\n",
       "      <td>1</td>\n",
       "      <td>1</td>\n",
       "      <td>120</td>\n",
       "      <td>76</td>\n",
       "      <td>1</td>\n",
       "      <td>1</td>\n",
       "      <td>55</td>\n",
       "      <td>0</td>\n",
       "      <td>67.0</td>\n",
       "      <td>1</td>\n",
       "      <td>3</td>\n",
       "      <td>3</td>\n",
       "    </tr>\n",
       "    <tr>\n",
       "      <th>2</th>\n",
       "      <td>70</td>\n",
       "      <td>1</td>\n",
       "      <td>4</td>\n",
       "      <td>130</td>\n",
       "      <td>322</td>\n",
       "      <td>0</td>\n",
       "      <td>2</td>\n",
       "      <td>109</td>\n",
       "      <td>0</td>\n",
       "      <td>2.4</td>\n",
       "      <td>3</td>\n",
       "      <td>3</td>\n",
       "      <td>3</td>\n",
       "    </tr>\n",
       "    <tr>\n",
       "      <th>3</th>\n",
       "      <td>67</td>\n",
       "      <td>0</td>\n",
       "      <td>3</td>\n",
       "      <td>114</td>\n",
       "      <td>564</td>\n",
       "      <td>0</td>\n",
       "      <td>2</td>\n",
       "      <td>160</td>\n",
       "      <td>0</td>\n",
       "      <td>1.6</td>\n",
       "      <td>2</td>\n",
       "      <td>0</td>\n",
       "      <td>7</td>\n",
       "    </tr>\n",
       "    <tr>\n",
       "      <th>4</th>\n",
       "      <td>57</td>\n",
       "      <td>1</td>\n",
       "      <td>2</td>\n",
       "      <td>124</td>\n",
       "      <td>261</td>\n",
       "      <td>0</td>\n",
       "      <td>0</td>\n",
       "      <td>141</td>\n",
       "      <td>0</td>\n",
       "      <td>0.3</td>\n",
       "      <td>1</td>\n",
       "      <td>0</td>\n",
       "      <td>7</td>\n",
       "    </tr>\n",
       "    <tr>\n",
       "      <th>5</th>\n",
       "      <td>64</td>\n",
       "      <td>1</td>\n",
       "      <td>4</td>\n",
       "      <td>128</td>\n",
       "      <td>263</td>\n",
       "      <td>0</td>\n",
       "      <td>0</td>\n",
       "      <td>105</td>\n",
       "      <td>1</td>\n",
       "      <td>0.2</td>\n",
       "      <td>2</td>\n",
       "      <td>1</td>\n",
       "      <td>3</td>\n",
       "    </tr>\n",
       "    <tr>\n",
       "      <th>6</th>\n",
       "      <td>74</td>\n",
       "      <td>0</td>\n",
       "      <td>2</td>\n",
       "      <td>120</td>\n",
       "      <td>269</td>\n",
       "      <td>0</td>\n",
       "      <td>0</td>\n",
       "      <td>121</td>\n",
       "      <td>1</td>\n",
       "      <td>0.4</td>\n",
       "      <td>2</td>\n",
       "      <td>1</td>\n",
       "      <td>7</td>\n",
       "    </tr>\n",
       "    <tr>\n",
       "      <th>7</th>\n",
       "      <td>57</td>\n",
       "      <td>1</td>\n",
       "      <td>2</td>\n",
       "      <td>130</td>\n",
       "      <td>300</td>\n",
       "      <td>1</td>\n",
       "      <td>2</td>\n",
       "      <td>130</td>\n",
       "      <td>1</td>\n",
       "      <td>2.2</td>\n",
       "      <td>2</td>\n",
       "      <td>2</td>\n",
       "      <td>6</td>\n",
       "    </tr>\n",
       "  </tbody>\n",
       "</table>\n",
       "</div>"
      ],
      "text/plain": [
       "   Age  Gender  ChestPain   BP  Cholesterol  FBS120  RES  MaxHeart  \\\n",
       "0   21       1          1   90           80       1    0        84   \n",
       "1  120       1          1  120           76       1    1        55   \n",
       "2   70       1          4  130          322       0    2       109   \n",
       "3   67       0          3  114          564       0    2       160   \n",
       "4   57       1          2  124          261       0    0       141   \n",
       "5   64       1          4  128          263       0    0       105   \n",
       "6   74       0          2  120          269       0    0       121   \n",
       "7   57       1          2  130          300       1    2       130   \n",
       "\n",
       "   ExerAngina  STDepression  SlopeST  NumVesselFluro  Thallium  \n",
       "0           1           1.5        1               1         3  \n",
       "1           0          67.0        1               3         3  \n",
       "2           0           2.4        3               3         3  \n",
       "3           0           1.6        2               0         7  \n",
       "4           0           0.3        1               0         7  \n",
       "5           1           0.2        2               1         3  \n",
       "6           1           0.4        2               1         7  \n",
       "7           1           2.2        2               2         6  "
      ]
     },
     "execution_count": 73,
     "metadata": {},
     "output_type": "execute_result"
    }
   ],
   "source": [
    "pipe = joblib.load('assets/model/decision_treeDet.sav')\n",
    "sheet_id = \"17f2EVE10PNwfjAqZHgcv86qTz15xA2SeNgKaHHCrzoo\"\n",
    "sheet_name = \"Form Responses 1\"\n",
    "url = f\"https://docs.google.com/spreadsheets/d/{sheet_id}/gviz/tq?tqx=out:csv&sheet={sheet_name}\"\n",
    "url = url.replace(\" \", \"%20\")\n",
    "X = pd.read_csv(url)\n",
    "X = X.rename(columns={'Enter Your Age ': 'Age', 'Chest Pain Type' : 'ChestPain', 'Blood Pressure (in mm Hg)':'BP', 'Cholestrol (in mg/dl)' : 'Cholesterol', 'Fasting Blood Sugar (FBS)' : 'FBS120', 'Resting Electrocardiogram result' : 'RES', 'Maximum Heart Rate ' : 'MaxHeart', 'Exercise Angina' : 'ExerAngina', ' ST depression induced by exercise compared to rest' : 'STDepression', 'Slope of ST' : 'SlopeST', 'Number of Vessels Fluro' : 'NumVesselFluro', 'Thallium ':'Thallium'})\n",
    "X = X[X.columns].replace({'Yes':1, 'No':0, 'Male':1, 'Female':0, 'Other':1, 'Typical Agina':1, 'Atypical Agina':2, 'Non-Anginal Pain': 3, 'Asymptomatic': 4, 'Normal': 0, 'Having ST - T wave abnormally': 1, 'Showing probable': 2, 'Unsloping': 1, 'Flat': 2, 'Downsloping': 3, '3 : Normal' : 3, '6 : Fixed Defect': 6, '7 : Reversable Defect': 7, '0': 1, '1':1, '2':2, '3':3})\n",
    "X = X.drop(['Timestamp'], axis=1)    \n",
    "X"
   ]
  },
  {
   "cell_type": "code",
   "execution_count": 74,
   "id": "599d799f",
   "metadata": {},
   "outputs": [
    {
     "name": "stdout",
     "output_type": "stream",
     "text": [
      "[1]\n"
     ]
    }
   ],
   "source": [
    "transformer = make_column_transformer((OneHotEncoder(sparse=False), ['ChestPain', 'RES', 'SlopeST', 'NumVesselFluro', 'Thallium']), remainder='passthrough')\n",
    "\n",
    "# Encode test data \n",
    "transformed_test = transformer.fit_transform(X)\n",
    "transformed_test_data = pd.DataFrame(transformed_test, columns=transformer.get_feature_names())\n",
    "\n",
    "# Concat the two tables\n",
    "transformed_test_data.reset_index(drop=True, inplace=True)\n",
    "X.reset_index(drop=True, inplace=True)\n",
    "X = transformed_test_data\n",
    "        \n",
    "scaler = MinMaxScaler(feature_range=(-1,1)).fit(X)\n",
    "        \n",
    "# Scale test data\n",
    "X = scaler.fit_transform(X)\n",
    "# apply the whole pipeline to data\n",
    "pred = pipe.predict(X[[-1]])\n",
    "print(pred)"
   ]
  },
  {
   "cell_type": "code",
   "execution_count": 76,
   "id": "9e5331a3",
   "metadata": {},
   "outputs": [
    {
     "data": {
      "text/plain": [
       "1"
      ]
     },
     "execution_count": 76,
     "metadata": {},
     "output_type": "execute_result"
    }
   ],
   "source": [
    "1 and 1\n",
    "\n"
   ]
  },
  {
   "cell_type": "code",
   "execution_count": null,
   "id": "915ff94b",
   "metadata": {},
   "outputs": [],
   "source": [
    "X.BMI = X.Weight / (X.Height * X.Height / 10000)\n",
    "X = X.drop(['Timestamp', 'Email Address','Weight', 'Height'], axis=1)\n",
    "transformer = make_column_transformer(\n",
    "(OneHotEncoder(sparse=False), ['Age']),   #need to alter the code according to the form\n",
    "remainder='passthrough')\n",
    "# Encode test data \n",
    "transformed_test = transformer.fit_transform(X)\n",
    "transformed_test_data = pd.DataFrame(transformed_test, columns=transformer.get_feature_names())\n",
    "\n",
    "        # Concat the two tables\n",
    "transformed_test_data.reset_index(drop=True, inplace=True)\n",
    "X.reset_index(drop=True, inplace=True)\n",
    "X = transformed_test_data"
   ]
  }
 ],
 "metadata": {
  "kernelspec": {
   "display_name": "Python 3 (ipykernel)",
   "language": "python",
   "name": "python3"
  },
  "language_info": {
   "codemirror_mode": {
    "name": "ipython",
    "version": 3
   },
   "file_extension": ".py",
   "mimetype": "text/x-python",
   "name": "python",
   "nbconvert_exporter": "python",
   "pygments_lexer": "ipython3",
   "version": "3.9.7"
  }
 },
 "nbformat": 4,
 "nbformat_minor": 5
}
